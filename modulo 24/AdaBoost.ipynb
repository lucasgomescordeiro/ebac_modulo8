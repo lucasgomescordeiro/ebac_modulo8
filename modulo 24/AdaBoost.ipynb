{
 "cells": [
  {
   "cell_type": "markdown",
   "id": "f450e662",
   "metadata": {},
   "source": [
    "## 1. Cite 5 diferenças entre o RandomForest e o AdaBoost\n",
    "1. No Random Forest as arvores são independentes, enquanto no AdaBoost uma arvore influencia a seguinte\n",
    "2. No Random Forest as arvores tem o mesmo peso enquanto no AdaBoost tem pesos diferentes\n",
    "3. No Random Forest as arvores não tem profundidade definida no AdaBoost a profundidade é 1\n",
    "4. Random Forest usa o bootstrap aleatorio o AdaBoost usa com faixas de peso pra cada variavel\n",
    "5. AdaBoost usa como resposta a votação ponderada da maioria enquanto no Random Forest é apenas a maioria(em caso de classificação)"
   ]
  },
  {
   "cell_type": "markdown",
   "id": "3cae6ea9",
   "metadata": {},
   "source": [
    "## 2.Acesse o link [Scikit-learn–adaboost](https://scikit-learn.org/stable/modules/ensemble.html#adaboost), leia a explicação (traduza se for preciso) e crie um jupyternotebook contendo o exemplo do AdaBoost.\n"
   ]
  },
  {
   "cell_type": "code",
   "execution_count": 17,
   "id": "7a7920e8",
   "metadata": {},
   "outputs": [
    {
     "data": {
      "text/plain": [
       "0.9599928876244666"
      ]
     },
     "execution_count": 17,
     "metadata": {},
     "output_type": "execute_result"
    }
   ],
   "source": [
    "from sklearn.model_selection import cross_val_score\n",
    "from sklearn.datasets import load_iris\n",
    "from sklearn.ensemble import AdaBoostClassifier\n",
    "\n",
    "X, y = load_iris(return_X_y=True)\n",
    "clf = AdaBoostClassifier(n_estimators=100, algorithm=\"SAMME\",)\n",
    "scores = cross_val_score(clf, X, y, cv=4)\n",
    "scores.mean()"
   ]
  },
  {
   "cell_type": "markdown",
   "id": "8efa991a",
   "metadata": {},
   "source": [
    "## 3. Cite 5 Hyperparametrosimportantes no AdaBoost.\n",
    "1. n_estimators\n",
    "2. learning_rate\n",
    "3. algorithm{‘SAMME’, ‘SAMME.R’}, default=’SAMME.R’\n",
    "4. learning_rate\n",
    "5. random_state"
   ]
  },
  {
   "cell_type": "markdown",
   "id": "8494e379",
   "metadata": {},
   "source": [
    "## 4. (Opcional) Utilize o GridSearchpara encontrar os melhores hyperparametrospara o conjunto de dados do exemplo (load_iris)"
   ]
  },
  {
   "cell_type": "code",
   "execution_count": 39,
   "id": "72001149",
   "metadata": {},
   "outputs": [
    {
     "name": "stdout",
     "output_type": "stream",
     "text": [
      "Score:  0.9667496443812233\n",
      "Best params:  {'algorithm': 'SAMME', 'n_estimators': 10, 'random_state': 1993}\n",
      "CPU times: total: 2.78 s\n",
      "Wall time: 3.98 s\n"
     ]
    }
   ],
   "source": [
    "%%time\n",
    "from sklearn.model_selection import cross_val_score\n",
    "from sklearn.datasets import load_iris\n",
    "from sklearn.ensemble import AdaBoostClassifier\n",
    "from sklearn.model_selection import GridSearchCV\n",
    "\n",
    "parametros = {'n_estimators':[10,200,10],\n",
    "           'algorithm':['SAMME', 'SAMME.R'],\n",
    "           'random_state':[1993]\n",
    "}\n",
    "\n",
    "X, y = load_iris(return_X_y=True)\n",
    "\n",
    "clf = AdaBoostClassifier()\n",
    "grid = GridSearchCV(estimator = clf, param_grid = parametros)\n",
    "grid.fit(X, y)\n",
    "\n",
    "scores = cross_val_score(clf, X, y, cv=4)\n",
    "\n",
    "print('Score: ',scores.mean())\n",
    "print('Best params: ', grid.best_params_)"
   ]
  }
 ],
 "metadata": {
  "kernelspec": {
   "display_name": "Python 3 (ipykernel)",
   "language": "python",
   "name": "python3"
  },
  "language_info": {
   "codemirror_mode": {
    "name": "ipython",
    "version": 3
   },
   "file_extension": ".py",
   "mimetype": "text/x-python",
   "name": "python",
   "nbconvert_exporter": "python",
   "pygments_lexer": "ipython3",
   "version": "3.11.5"
  }
 },
 "nbformat": 4,
 "nbformat_minor": 5
}
