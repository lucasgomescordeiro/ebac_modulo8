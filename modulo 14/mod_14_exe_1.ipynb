{
 "cells": [
  {
   "cell_type": "markdown",
   "id": "95fac880",
   "metadata": {},
   "source": [
    "1 - Crie um notbook com os imports necessários e um código para gerar os graficos referente a base \n",
    "de março, abril, maio, junho e dezembro\n",
    "\n",
    "2 - Como você poderia fazer para deixar isso mais automatizado? descreva o que ajudaria gerar novos \n",
    "graficos para meses/anos seguintes."
   ]
  },
  {
   "cell_type": "code",
   "execution_count": 18,
   "id": "8c9b4fca",
   "metadata": {},
   "outputs": [
    {
     "name": "stdout",
     "output_type": "stream",
     "text": [
      "Pasta criada:  2019-03\n",
      "Pasta criada:  2019-04\n",
      "Pasta criada:  2019-05\n",
      "Pasta criada:  2019-06\n",
      "Pasta criada:  2019-12\n"
     ]
    }
   ],
   "source": [
    "import numpy as np\n",
    "import pandas as pd\n",
    "import seaborn as sns\n",
    "import matplotlib.pyplot as plt\n",
    "import os\n",
    "\n",
    "\n",
    "def plota_pivot_table(df, value, index, func, ylabel, xlabel, opcao='nada'):\n",
    "    if opcao == 'nada':\n",
    "        pd.pivot_table(df, values=value, index=index,\n",
    "                       aggfunc=func).plot(figsize=[15, 5])\n",
    "    elif opcao == 'sort':\n",
    "        pd.pivot_table(df, values=value, index=index,\n",
    "                       aggfunc=func).sort_values(value).plot(figsize=[15, 5])\n",
    "    elif opcao == 'unstack':\n",
    "        pd.pivot_table(df, values=value, index=index,\n",
    "                       aggfunc=func).unstack().plot(figsize=[15, 5])\n",
    "    plt.ylabel(ylabel)\n",
    "    plt.xlabel(xlabel)\n",
    "    return None\n",
    "\n",
    "mes = ['SINASC_RO_2019_MAR', 'SINASC_RO_2019_ABR', 'SINASC_RO_2019_MAI', 'SINASC_RO_2019_JUN', 'SINASC_RO_2019_DEZ']\n",
    "\n",
    "\n",
    "for i in mes:\n",
    "    sinasc = pd.read_csv(\".\\\\input\\\\\"+i+'.csv')\n",
    "    \n",
    "    max_data = sinasc.DTNASC.max()[:7]\n",
    "    max_data\n",
    "    \n",
    "    os.makedirs('./output/figs/'+max_data, exist_ok=True)\n",
    "    \n",
    "    plota_pivot_table(sinasc, 'IDADEMAE', ['DTNASC', 'SEXO'], 'mean', 'media idade mae','data de nascimento','unstack')\n",
    "    plt.savefig('./output/figs/'+max_data+'/media idade mae por sexo.png')\n",
    "    plt.close()\n",
    "\n",
    "    plota_pivot_table(sinasc, 'PESO', ['DTNASC', 'SEXO'], 'mean', 'media peso bebe','data de nascimento','unstack')\n",
    "    plt.savefig('./output/figs/'+max_data+'/media peso bebe por sexo.png')\n",
    "    plt.close()\n",
    "\n",
    "    plota_pivot_table(sinasc, 'PESO', 'ESCMAE', 'median', 'apgar1 medio','gestacao','sort')\n",
    "    plt.savefig('./output/figs/'+max_data+'/media apgar1 por escolaridade mae.png')\n",
    "    plt.close()\n",
    "\n",
    "    plota_pivot_table(sinasc, 'APGAR1', 'GESTACAO', 'mean', 'apgar1 medio','gestacao','sort')\n",
    "    plt.savefig('./output/figs/'+max_data+'/media apgar1 por gestacao.png')\n",
    "    plt.close()\n",
    "\n",
    "    plota_pivot_table(sinasc, 'APGAR5', 'GESTACAO', 'mean', 'apgar5 medio','gestacao','sort')\n",
    "    plt.savefig('./output/figs/'+max_data+'/media apgar5 por gestacao.png')\n",
    "    plt.close()\n",
    "    \n",
    "    print('Pasta criada: ', max_data)"
   ]
  },
  {
   "cell_type": "markdown",
   "id": "432f4d3d",
   "metadata": {},
   "source": [
    "Uma maneira de automatizar mais o processo seria criando um script .py onde há um input para o usuario\n",
    "digitar o mes e ano desejado, ou um script que roda automaticamente no inicio de cada mês gerando o relatorio do mês anterior."
   ]
  }
 ],
 "metadata": {
  "kernelspec": {
   "display_name": "Python 3 (ipykernel)",
   "language": "python",
   "name": "python3"
  },
  "language_info": {
   "codemirror_mode": {
    "name": "ipython",
    "version": 3
   },
   "file_extension": ".py",
   "mimetype": "text/x-python",
   "name": "python",
   "nbconvert_exporter": "python",
   "pygments_lexer": "ipython3",
   "version": "3.11.3"
  }
 },
 "nbformat": 4,
 "nbformat_minor": 5
}
