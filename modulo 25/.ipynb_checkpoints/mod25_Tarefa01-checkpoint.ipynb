{
 "cells": [
  {
   "cell_type": "markdown",
   "metadata": {},
   "source": [
    "# Cálculo - Tarefa 01\n",
    "\n",
    "## 1. Marque quais desses métodos/algoritmos muito populares em ciência de dados são baseados no uso de derivada:\n",
    "\n",
    "    1. Método Mínimos Quadrados\n",
    "    2. Gradiente descendente\n",
    "    3. Newton Raphson\n",
    "    4. CART (Árvore de decisão)"
   ]
  },
  {
   "cell_type": "markdown",
   "metadata": {},
   "source": [
    "###### Métodos que usam derivada\n",
    "\n",
    "- Gradiente descendente\n",
    "- Newton Raphson\n",
    "\n",
    "###### Métodos que não usam derivada\n",
    "<blockquote>O <strong>Método dos Mínimos Quadrados</strong> não é baseado no uso de derivadas. Trata-se de uma técnica de ajuste de modelos de regressão que busca encontrar os parâmetros que minimizam a soma dos quadrados dos resíduos, sem a necessidade de cálculos de derivadas</blockquote>\n",
    "\n",
    "<blockquote><strong>CART (Árvore de Decisão)</strong> também não é baseado no uso de derivadas, mas sim em critérios que avaliam a pureza das classes ou a redução do erro na construção da árvore de decisão.</blockquote>\n"
   ]
  },
  {
   "cell_type": "markdown",
   "metadata": {},
   "source": []
  },
  {
   "cell_type": "markdown",
   "metadata": {},
   "source": [
    "## 2. Dada uma base de dados com uma variável resposta $y$ e um conjunto de variáveis explicativas. Considere uma estrutura de um modelo de regressão. Explique com suas palavras por que não é possível obter parâmetros que forneçam um erro quadrático médio (EQM) menor que o obtido com estimadores de mínimos quadrados.\n",
    "\n",
    "O uso de estimadores de mínimos quadrados em modelos de regressão visa minimizar o erro quadrático médio (EQM) entre as previsões do modelo e os valores reais dos dados. No entanto, sem esses estimadores, não é possível obter parâmetros que proporcionem um EQM menor. Isso ocorre porque, ao tentar ajustar os parâmetros sem o método dos mínimos quadrados, o modelo pode se sobreajustar aos dados de treinamento, resultando em previsões imprecisas para novos dados. Portanto, os estimadores de mínimos quadrados ajudam a evitar o overfitting, proporcionando uma melhor generalização do modelo para dados não vistos durante o treinamento.\n"
   ]
  },
  {
   "cell_type": "markdown",
   "metadata": {},
   "source": []
  }
 ],
 "metadata": {
  "kernelspec": {
   "display_name": "Python 3 (ipykernel)",
   "language": "python",
   "name": "python3"
  },
  "language_info": {
   "codemirror_mode": {
    "name": "ipython",
    "version": 3
   },
   "file_extension": ".py",
   "mimetype": "text/x-python",
   "name": "python",
   "nbconvert_exporter": "python",
   "pygments_lexer": "ipython3",
   "version": "3.11.5"
  },
  "toc": {
   "base_numbering": 1,
   "nav_menu": {},
   "number_sections": true,
   "sideBar": true,
   "skip_h1_title": true,
   "title_cell": "Índice",
   "title_sidebar": "Conteúdo",
   "toc_cell": false,
   "toc_position": {},
   "toc_section_display": true,
   "toc_window_display": false
  },
  "varInspector": {
   "cols": {
    "lenName": 16,
    "lenType": 16,
    "lenVar": 40
   },
   "kernels_config": {
    "python": {
     "delete_cmd_postfix": "",
     "delete_cmd_prefix": "del ",
     "library": "var_list.py",
     "varRefreshCmd": "print(var_dic_list())"
    },
    "r": {
     "delete_cmd_postfix": ") ",
     "delete_cmd_prefix": "rm(",
     "library": "var_list.r",
     "varRefreshCmd": "cat(var_dic_list()) "
    }
   },
   "types_to_exclude": [
    "module",
    "function",
    "builtin_function_or_method",
    "instance",
    "_Feature"
   ],
   "window_display": false
  }
 },
 "nbformat": 4,
 "nbformat_minor": 4
}
