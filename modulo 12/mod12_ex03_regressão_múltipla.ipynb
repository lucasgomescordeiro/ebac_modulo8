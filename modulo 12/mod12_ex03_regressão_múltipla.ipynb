{
  "cells": [
    {
      "cell_type": "markdown",
      "metadata": {
        "id": "dgcgl21GjcWs"
      },
      "source": [
        "# Regressão 01 - tarefa 03 - transformações em X e Y"
      ]
    },
    {
      "cell_type": "markdown",
      "metadata": {
        "id": "jlYWjLcfjcWu"
      },
      "source": [
        "Carregue os pacotes necessários e a base de gorjetas.\n",
        "\n",
        "### I. Modelo no valor da gorjeta\n",
        "\n",
        "1. Crie a matriz de design (e a matriz y) utilizando o Patsy, para um modelo em ```tip```, explicada por ```sex, smoker, diner e net_bill```.  \n",
        "2. Remova as variáveis não significantes.  \n",
        "3. observe o gráfico de resíduos em função de ```net_bill```  \n",
        "4. teste transformar ```net_bill``` no log e um polinômio. Escolha o melhor modelo."
      ]
    },
    {
      "cell_type": "code",
      "source": [
        "import pandas as pd\n",
        "import matplotlib.pyplot as plt\n",
        "import seaborn as sns\n",
        "import patsy\n",
        "import statsmodels.formula.api as smf\n",
        "import statsmodels.api as sm\n",
        "from sklearn.metrics import r2_score\n",
        "import numpy as np"
      ],
      "metadata": {
        "id": "gLab5j9TO5dG"
      },
      "execution_count": 2,
      "outputs": []
    },
    {
      "cell_type": "code",
      "source": [
        "tips = sns.load_dataset('tips')\n",
        "tips['tip_pct'] = tips['tip'] / (tips['total_bill'] - tips['tip'])\n",
        "tips['net_bill'] = tips['total_bill'] - tips['tip']\n",
        "tips = tips[tips['tip_pct']<.5]\n",
        "tips.head(1)"
      ],
      "metadata": {
        "colab": {
          "base_uri": "https://localhost:8080/",
          "height": 81
        },
        "id": "hm8bPMFQhB7Z",
        "outputId": "ad149c74-1d4e-49da-aeff-13c0a72e14e6"
      },
      "execution_count": 3,
      "outputs": [
        {
          "output_type": "execute_result",
          "data": {
            "text/plain": [
              "   total_bill   tip     sex smoker  day    time  size   tip_pct  net_bill\n",
              "0       16.99  1.01  Female     No  Sun  Dinner     2  0.063204     15.98"
            ],
            "text/html": [
              "\n",
              "  <div id=\"df-26eb7d17-ce8d-44fa-a966-8132e3196596\">\n",
              "    <div class=\"colab-df-container\">\n",
              "      <div>\n",
              "<style scoped>\n",
              "    .dataframe tbody tr th:only-of-type {\n",
              "        vertical-align: middle;\n",
              "    }\n",
              "\n",
              "    .dataframe tbody tr th {\n",
              "        vertical-align: top;\n",
              "    }\n",
              "\n",
              "    .dataframe thead th {\n",
              "        text-align: right;\n",
              "    }\n",
              "</style>\n",
              "<table border=\"1\" class=\"dataframe\">\n",
              "  <thead>\n",
              "    <tr style=\"text-align: right;\">\n",
              "      <th></th>\n",
              "      <th>total_bill</th>\n",
              "      <th>tip</th>\n",
              "      <th>sex</th>\n",
              "      <th>smoker</th>\n",
              "      <th>day</th>\n",
              "      <th>time</th>\n",
              "      <th>size</th>\n",
              "      <th>tip_pct</th>\n",
              "      <th>net_bill</th>\n",
              "    </tr>\n",
              "  </thead>\n",
              "  <tbody>\n",
              "    <tr>\n",
              "      <th>0</th>\n",
              "      <td>16.99</td>\n",
              "      <td>1.01</td>\n",
              "      <td>Female</td>\n",
              "      <td>No</td>\n",
              "      <td>Sun</td>\n",
              "      <td>Dinner</td>\n",
              "      <td>2</td>\n",
              "      <td>0.063204</td>\n",
              "      <td>15.98</td>\n",
              "    </tr>\n",
              "  </tbody>\n",
              "</table>\n",
              "</div>\n",
              "      <button class=\"colab-df-convert\" onclick=\"convertToInteractive('df-26eb7d17-ce8d-44fa-a966-8132e3196596')\"\n",
              "              title=\"Convert this dataframe to an interactive table.\"\n",
              "              style=\"display:none;\">\n",
              "        \n",
              "  <svg xmlns=\"http://www.w3.org/2000/svg\" height=\"24px\"viewBox=\"0 0 24 24\"\n",
              "       width=\"24px\">\n",
              "    <path d=\"M0 0h24v24H0V0z\" fill=\"none\"/>\n",
              "    <path d=\"M18.56 5.44l.94 2.06.94-2.06 2.06-.94-2.06-.94-.94-2.06-.94 2.06-2.06.94zm-11 1L8.5 8.5l.94-2.06 2.06-.94-2.06-.94L8.5 2.5l-.94 2.06-2.06.94zm10 10l.94 2.06.94-2.06 2.06-.94-2.06-.94-.94-2.06-.94 2.06-2.06.94z\"/><path d=\"M17.41 7.96l-1.37-1.37c-.4-.4-.92-.59-1.43-.59-.52 0-1.04.2-1.43.59L10.3 9.45l-7.72 7.72c-.78.78-.78 2.05 0 2.83L4 21.41c.39.39.9.59 1.41.59.51 0 1.02-.2 1.41-.59l7.78-7.78 2.81-2.81c.8-.78.8-2.07 0-2.86zM5.41 20L4 18.59l7.72-7.72 1.47 1.35L5.41 20z\"/>\n",
              "  </svg>\n",
              "      </button>\n",
              "      \n",
              "  <style>\n",
              "    .colab-df-container {\n",
              "      display:flex;\n",
              "      flex-wrap:wrap;\n",
              "      gap: 12px;\n",
              "    }\n",
              "\n",
              "    .colab-df-convert {\n",
              "      background-color: #E8F0FE;\n",
              "      border: none;\n",
              "      border-radius: 50%;\n",
              "      cursor: pointer;\n",
              "      display: none;\n",
              "      fill: #1967D2;\n",
              "      height: 32px;\n",
              "      padding: 0 0 0 0;\n",
              "      width: 32px;\n",
              "    }\n",
              "\n",
              "    .colab-df-convert:hover {\n",
              "      background-color: #E2EBFA;\n",
              "      box-shadow: 0px 1px 2px rgba(60, 64, 67, 0.3), 0px 1px 3px 1px rgba(60, 64, 67, 0.15);\n",
              "      fill: #174EA6;\n",
              "    }\n",
              "\n",
              "    [theme=dark] .colab-df-convert {\n",
              "      background-color: #3B4455;\n",
              "      fill: #D2E3FC;\n",
              "    }\n",
              "\n",
              "    [theme=dark] .colab-df-convert:hover {\n",
              "      background-color: #434B5C;\n",
              "      box-shadow: 0px 1px 3px 1px rgba(0, 0, 0, 0.15);\n",
              "      filter: drop-shadow(0px 1px 2px rgba(0, 0, 0, 0.3));\n",
              "      fill: #FFFFFF;\n",
              "    }\n",
              "  </style>\n",
              "\n",
              "      <script>\n",
              "        const buttonEl =\n",
              "          document.querySelector('#df-26eb7d17-ce8d-44fa-a966-8132e3196596 button.colab-df-convert');\n",
              "        buttonEl.style.display =\n",
              "          google.colab.kernel.accessAllowed ? 'block' : 'none';\n",
              "\n",
              "        async function convertToInteractive(key) {\n",
              "          const element = document.querySelector('#df-26eb7d17-ce8d-44fa-a966-8132e3196596');\n",
              "          const dataTable =\n",
              "            await google.colab.kernel.invokeFunction('convertToInteractive',\n",
              "                                                     [key], {});\n",
              "          if (!dataTable) return;\n",
              "\n",
              "          const docLinkHtml = 'Like what you see? Visit the ' +\n",
              "            '<a target=\"_blank\" href=https://colab.research.google.com/notebooks/data_table.ipynb>data table notebook</a>'\n",
              "            + ' to learn more about interactive tables.';\n",
              "          element.innerHTML = '';\n",
              "          dataTable['output_type'] = 'display_data';\n",
              "          await google.colab.output.renderOutput(dataTable, element);\n",
              "          const docLink = document.createElement('div');\n",
              "          docLink.innerHTML = docLinkHtml;\n",
              "          element.appendChild(docLink);\n",
              "        }\n",
              "      </script>\n",
              "    </div>\n",
              "  </div>\n",
              "  "
            ]
          },
          "metadata": {},
          "execution_count": 3
        }
      ]
    },
    {
      "cell_type": "code",
      "source": [
        "y, X = patsy.dmatrices('tip ~  net_bill ', tips)\n",
        "X"
      ],
      "metadata": {
        "colab": {
          "base_uri": "https://localhost:8080/"
        },
        "id": "W42menSnhKHh",
        "outputId": "cffc622e-53b9-4f35-9ea2-5edebf009a4b"
      },
      "execution_count": 4,
      "outputs": [
        {
          "output_type": "execute_result",
          "data": {
            "text/plain": [
              "DesignMatrix with shape (242, 2)\n",
              "  Intercept  net_bill\n",
              "          1     15.98\n",
              "          1      8.68\n",
              "          1     17.51\n",
              "          1     20.37\n",
              "          1     20.98\n",
              "          1     20.58\n",
              "          1      6.77\n",
              "          1     23.76\n",
              "          1     13.08\n",
              "          1     11.55\n",
              "          1      8.56\n",
              "          1     30.26\n",
              "          1     13.85\n",
              "          1     15.43\n",
              "          1     11.81\n",
              "          1     17.66\n",
              "          1      8.66\n",
              "          1     12.58\n",
              "          1     13.47\n",
              "          1     17.30\n",
              "          1     13.84\n",
              "          1     17.54\n",
              "          1     13.54\n",
              "          1     31.84\n",
              "          1     16.64\n",
              "          1     15.47\n",
              "          1     11.37\n",
              "          1     10.69\n",
              "          1     17.40\n",
              "          1     16.65\n",
              "  [212 rows omitted]\n",
              "  Terms:\n",
              "    'Intercept' (column 0)\n",
              "    'net_bill' (column 1)\n",
              "  (to view full data, use np.asarray(this_obj))"
            ]
          },
          "metadata": {},
          "execution_count": 4
        }
      ]
    },
    {
      "cell_type": "code",
      "source": [
        "modelo = sm.OLS(y,X).fit()\n",
        "modelo.summary()"
      ],
      "metadata": {
        "colab": {
          "base_uri": "https://localhost:8080/",
          "height": 452
        },
        "id": "Z9Qqn5S7mW_5",
        "outputId": "f011e77b-af36-46fe-d493-79758b8ff649"
      },
      "execution_count": 5,
      "outputs": [
        {
          "output_type": "execute_result",
          "data": {
            "text/plain": [
              "<class 'statsmodels.iolib.summary.Summary'>\n",
              "\"\"\"\n",
              "                            OLS Regression Results                            \n",
              "==============================================================================\n",
              "Dep. Variable:                    tip   R-squared:                       0.364\n",
              "Model:                            OLS   Adj. R-squared:                  0.361\n",
              "Method:                 Least Squares   F-statistic:                     137.1\n",
              "Date:                Sun, 02 Jul 2023   Prob (F-statistic):           2.41e-25\n",
              "Time:                        20:19:29   Log-Likelihood:                -366.31\n",
              "No. Observations:                 242   AIC:                             736.6\n",
              "Df Residuals:                     240   BIC:                             743.6\n",
              "Df Model:                           1                                         \n",
              "Covariance Type:            nonrobust                                         \n",
              "==============================================================================\n",
              "                 coef    std err          t      P>|t|      [0.025      0.975]\n",
              "------------------------------------------------------------------------------\n",
              "Intercept      1.2219      0.166      7.339      0.000       0.894       1.550\n",
              "net_bill       0.1044      0.009     11.708      0.000       0.087       0.122\n",
              "==============================================================================\n",
              "Omnibus:                       27.459   Durbin-Watson:                   2.108\n",
              "Prob(Omnibus):                  0.000   Jarque-Bera (JB):               50.674\n",
              "Skew:                           0.610   Prob(JB):                     9.92e-12\n",
              "Kurtosis:                       4.881   Cond. No.                         43.9\n",
              "==============================================================================\n",
              "\n",
              "Notes:\n",
              "[1] Standard Errors assume that the covariance matrix of the errors is correctly specified.\n",
              "\"\"\""
            ],
            "text/html": [
              "<table class=\"simpletable\">\n",
              "<caption>OLS Regression Results</caption>\n",
              "<tr>\n",
              "  <th>Dep. Variable:</th>           <td>tip</td>       <th>  R-squared:         </th> <td>   0.364</td>\n",
              "</tr>\n",
              "<tr>\n",
              "  <th>Model:</th>                   <td>OLS</td>       <th>  Adj. R-squared:    </th> <td>   0.361</td>\n",
              "</tr>\n",
              "<tr>\n",
              "  <th>Method:</th>             <td>Least Squares</td>  <th>  F-statistic:       </th> <td>   137.1</td>\n",
              "</tr>\n",
              "<tr>\n",
              "  <th>Date:</th>             <td>Sun, 02 Jul 2023</td> <th>  Prob (F-statistic):</th> <td>2.41e-25</td>\n",
              "</tr>\n",
              "<tr>\n",
              "  <th>Time:</th>                 <td>20:19:29</td>     <th>  Log-Likelihood:    </th> <td> -366.31</td>\n",
              "</tr>\n",
              "<tr>\n",
              "  <th>No. Observations:</th>      <td>   242</td>      <th>  AIC:               </th> <td>   736.6</td>\n",
              "</tr>\n",
              "<tr>\n",
              "  <th>Df Residuals:</th>          <td>   240</td>      <th>  BIC:               </th> <td>   743.6</td>\n",
              "</tr>\n",
              "<tr>\n",
              "  <th>Df Model:</th>              <td>     1</td>      <th>                     </th>     <td> </td>   \n",
              "</tr>\n",
              "<tr>\n",
              "  <th>Covariance Type:</th>      <td>nonrobust</td>    <th>                     </th>     <td> </td>   \n",
              "</tr>\n",
              "</table>\n",
              "<table class=\"simpletable\">\n",
              "<tr>\n",
              "      <td></td>         <th>coef</th>     <th>std err</th>      <th>t</th>      <th>P>|t|</th>  <th>[0.025</th>    <th>0.975]</th>  \n",
              "</tr>\n",
              "<tr>\n",
              "  <th>Intercept</th> <td>    1.2219</td> <td>    0.166</td> <td>    7.339</td> <td> 0.000</td> <td>    0.894</td> <td>    1.550</td>\n",
              "</tr>\n",
              "<tr>\n",
              "  <th>net_bill</th>  <td>    0.1044</td> <td>    0.009</td> <td>   11.708</td> <td> 0.000</td> <td>    0.087</td> <td>    0.122</td>\n",
              "</tr>\n",
              "</table>\n",
              "<table class=\"simpletable\">\n",
              "<tr>\n",
              "  <th>Omnibus:</th>       <td>27.459</td> <th>  Durbin-Watson:     </th> <td>   2.108</td>\n",
              "</tr>\n",
              "<tr>\n",
              "  <th>Prob(Omnibus):</th> <td> 0.000</td> <th>  Jarque-Bera (JB):  </th> <td>  50.674</td>\n",
              "</tr>\n",
              "<tr>\n",
              "  <th>Skew:</th>          <td> 0.610</td> <th>  Prob(JB):          </th> <td>9.92e-12</td>\n",
              "</tr>\n",
              "<tr>\n",
              "  <th>Kurtosis:</th>      <td> 4.881</td> <th>  Cond. No.          </th> <td>    43.9</td>\n",
              "</tr>\n",
              "</table><br/><br/>Notes:<br/>[1] Standard Errors assume that the covariance matrix of the errors is correctly specified."
            ]
          },
          "metadata": {},
          "execution_count": 5
        }
      ]
    },
    {
      "cell_type": "code",
      "source": [
        "tips['residuo'] = modelo.resid"
      ],
      "metadata": {
        "id": "Xy4WEfbJfhUs"
      },
      "execution_count": 6,
      "outputs": []
    },
    {
      "cell_type": "code",
      "source": [
        "sns.regplot(tips, x='net_bill', y=modelo.resid);"
      ],
      "metadata": {
        "colab": {
          "base_uri": "https://localhost:8080/",
          "height": 450
        },
        "id": "8fkfcuvUpv-v",
        "outputId": "5ff9fb35-a95b-465b-a50b-d78a547621dd"
      },
      "execution_count": 18,
      "outputs": [
        {
          "output_type": "display_data",
          "data": {
            "text/plain": [
              "<Figure size 640x480 with 1 Axes>"
            ],
            "image/png": "[encoded data removed]"
          },
          "metadata": {}
        }
      ]
    },
    {
      "cell_type": "code",
      "source": [
        "#net_bill com log\n",
        "y, X = patsy.dmatrices('tip ~ np.log(net_bill) ', tips)\n",
        "X"
      ],
      "metadata": {
        "colab": {
          "base_uri": "https://localhost:8080/"
        },
        "id": "4uDeQeyX42GE",
        "outputId": "bda22cb2-edbc-4aed-abad-4f41d111b2e0"
      },
      "execution_count": 24,
      "outputs": [
        {
          "output_type": "execute_result",
          "data": {
            "text/plain": [
              "DesignMatrix with shape (242, 2)\n",
              "  Intercept  np.log(net_bill)\n",
              "          1           2.77134\n",
              "          1           2.16102\n",
              "          1           2.86277\n",
              "          1           3.01406\n",
              "          1           3.04357\n",
              "          1           3.02432\n",
              "          1           1.91250\n",
              "          1           3.16800\n",
              "          1           2.57108\n",
              "          1           2.44669\n",
              "          1           2.14710\n",
              "          1           3.40983\n",
              "          1           2.62829\n",
              "          1           2.73631\n",
              "          1           2.46895\n",
              "          1           2.87130\n",
              "          1           2.15871\n",
              "          1           2.53211\n",
              "          1           2.60046\n",
              "          1           2.85071\n",
              "          1           2.62756\n",
              "          1           2.86448\n",
              "          1           2.60565\n",
              "          1           3.46072\n",
              "          1           2.81181\n",
              "          1           2.73890\n",
              "          1           2.43098\n",
              "          1           2.36931\n",
              "          1           2.85647\n",
              "          1           2.81241\n",
              "  [212 rows omitted]\n",
              "  Terms:\n",
              "    'Intercept' (column 0)\n",
              "    'np.log(net_bill)' (column 1)\n",
              "  (to view full data, use np.asarray(this_obj))"
            ]
          },
          "metadata": {},
          "execution_count": 24
        }
      ]
    },
    {
      "cell_type": "code",
      "source": [
        "modelo_log = sm.OLS(y,X).fit()\n",
        "modelo.summary()"
      ],
      "metadata": {
        "colab": {
          "base_uri": "https://localhost:8080/",
          "height": 452
        },
        "id": "f5X8LpN45RfT",
        "outputId": "9296395a-1efb-4768-d42e-6594e25c3409"
      },
      "execution_count": 25,
      "outputs": [
        {
          "output_type": "execute_result",
          "data": {
            "text/plain": [
              "<class 'statsmodels.iolib.summary.Summary'>\n",
              "\"\"\"\n",
              "                            OLS Regression Results                            \n",
              "==============================================================================\n",
              "Dep. Variable:                    tip   R-squared:                       0.317\n",
              "Model:                            OLS   Adj. R-squared:                  0.314\n",
              "Method:                 Least Squares   F-statistic:                     111.2\n",
              "Date:                Sun, 02 Jul 2023   Prob (F-statistic):           1.30e-21\n",
              "Time:                        20:27:34   Log-Likelihood:                -374.91\n",
              "No. Observations:                 242   AIC:                             753.8\n",
              "Df Residuals:                     240   BIC:                             760.8\n",
              "Df Model:                           1                                         \n",
              "Covariance Type:            nonrobust                                         \n",
              "=========================================================================================\n",
              "                            coef    std err          t      P>|t|      [0.025      0.975]\n",
              "-----------------------------------------------------------------------------------------\n",
              "Intercept                 2.2202      0.103     21.494      0.000       2.017       2.424\n",
              "np.power(net_bill, 2)     0.0022      0.000     10.546      0.000       0.002       0.003\n",
              "==============================================================================\n",
              "Omnibus:                       21.866   Durbin-Watson:                   2.177\n",
              "Prob(Omnibus):                  0.000   Jarque-Bera (JB):               31.936\n",
              "Skew:                           0.579   Prob(JB):                     1.16e-07\n",
              "Kurtosis:                       4.351   Cond. No.                         698.\n",
              "==============================================================================\n",
              "\n",
              "Notes:\n",
              "[1] Standard Errors assume that the covariance matrix of the errors is correctly specified.\n",
              "\"\"\""
            ],
            "text/html": [
              "<table class=\"simpletable\">\n",
              "<caption>OLS Regression Results</caption>\n",
              "<tr>\n",
              "  <th>Dep. Variable:</th>           <td>tip</td>       <th>  R-squared:         </th> <td>   0.317</td>\n",
              "</tr>\n",
              "<tr>\n",
              "  <th>Model:</th>                   <td>OLS</td>       <th>  Adj. R-squared:    </th> <td>   0.314</td>\n",
              "</tr>\n",
              "<tr>\n",
              "  <th>Method:</th>             <td>Least Squares</td>  <th>  F-statistic:       </th> <td>   111.2</td>\n",
              "</tr>\n",
              "<tr>\n",
              "  <th>Date:</th>             <td>Sun, 02 Jul 2023</td> <th>  Prob (F-statistic):</th> <td>1.30e-21</td>\n",
              "</tr>\n",
              "<tr>\n",
              "  <th>Time:</th>                 <td>20:27:34</td>     <th>  Log-Likelihood:    </th> <td> -374.91</td>\n",
              "</tr>\n",
              "<tr>\n",
              "  <th>No. Observations:</th>      <td>   242</td>      <th>  AIC:               </th> <td>   753.8</td>\n",
              "</tr>\n",
              "<tr>\n",
              "  <th>Df Residuals:</th>          <td>   240</td>      <th>  BIC:               </th> <td>   760.8</td>\n",
              "</tr>\n",
              "<tr>\n",
              "  <th>Df Model:</th>              <td>     1</td>      <th>                     </th>     <td> </td>   \n",
              "</tr>\n",
              "<tr>\n",
              "  <th>Covariance Type:</th>      <td>nonrobust</td>    <th>                     </th>     <td> </td>   \n",
              "</tr>\n",
              "</table>\n",
              "<table class=\"simpletable\">\n",
              "<tr>\n",
              "            <td></td>               <th>coef</th>     <th>std err</th>      <th>t</th>      <th>P>|t|</th>  <th>[0.025</th>    <th>0.975]</th>  \n",
              "</tr>\n",
              "<tr>\n",
              "  <th>Intercept</th>             <td>    2.2202</td> <td>    0.103</td> <td>   21.494</td> <td> 0.000</td> <td>    2.017</td> <td>    2.424</td>\n",
              "</tr>\n",
              "<tr>\n",
              "  <th>np.power(net_bill, 2)</th> <td>    0.0022</td> <td>    0.000</td> <td>   10.546</td> <td> 0.000</td> <td>    0.002</td> <td>    0.003</td>\n",
              "</tr>\n",
              "</table>\n",
              "<table class=\"simpletable\">\n",
              "<tr>\n",
              "  <th>Omnibus:</th>       <td>21.866</td> <th>  Durbin-Watson:     </th> <td>   2.177</td>\n",
              "</tr>\n",
              "<tr>\n",
              "  <th>Prob(Omnibus):</th> <td> 0.000</td> <th>  Jarque-Bera (JB):  </th> <td>  31.936</td>\n",
              "</tr>\n",
              "<tr>\n",
              "  <th>Skew:</th>          <td> 0.579</td> <th>  Prob(JB):          </th> <td>1.16e-07</td>\n",
              "</tr>\n",
              "<tr>\n",
              "  <th>Kurtosis:</th>      <td> 4.351</td> <th>  Cond. No.          </th> <td>    698.</td>\n",
              "</tr>\n",
              "</table><br/><br/>Notes:<br/>[1] Standard Errors assume that the covariance matrix of the errors is correctly specified."
            ]
          },
          "metadata": {},
          "execution_count": 25
        }
      ]
    },
    {
      "cell_type": "code",
      "source": [
        "#net_bill com polinomio\n",
        "y, X = patsy.dmatrices('tip ~ np.power(net_bill, 2) ', tips)\n",
        "X"
      ],
      "metadata": {
        "colab": {
          "base_uri": "https://localhost:8080/"
        },
        "id": "wRyTWEN45Wqb",
        "outputId": "06cba382-1e8d-437c-bb98-31cd103a76c0"
      },
      "execution_count": 26,
      "outputs": [
        {
          "output_type": "execute_result",
          "data": {
            "text/plain": [
              "DesignMatrix with shape (242, 2)\n",
              "  Intercept  np.power(net_bill, 2)\n",
              "          1               255.3604\n",
              "          1                75.3424\n",
              "          1               306.6001\n",
              "          1               414.9369\n",
              "          1               440.1604\n",
              "          1               423.5364\n",
              "          1                45.8329\n",
              "          1               564.5376\n",
              "          1               171.0864\n",
              "          1               133.4025\n",
              "          1                73.2736\n",
              "          1               915.6676\n",
              "          1               191.8225\n",
              "          1               238.0849\n",
              "          1               139.4761\n",
              "          1               311.8756\n",
              "          1                74.9956\n",
              "          1               158.2564\n",
              "          1               181.4409\n",
              "          1               299.2900\n",
              "          1               191.5456\n",
              "          1               307.6516\n",
              "          1               183.3316\n",
              "          1              1013.7856\n",
              "          1               276.8896\n",
              "          1               239.3209\n",
              "          1               129.2769\n",
              "          1               114.2761\n",
              "          1               302.7600\n",
              "          1               277.2225\n",
              "  [212 rows omitted]\n",
              "  Terms:\n",
              "    'Intercept' (column 0)\n",
              "    'np.power(net_bill, 2)' (column 1)\n",
              "  (to view full data, use np.asarray(this_obj))"
            ]
          },
          "metadata": {},
          "execution_count": 26
        }
      ]
    },
    {
      "cell_type": "code",
      "source": [
        "modelo_poli = sm.OLS(y,X).fit()\n",
        "modelo.summary()"
      ],
      "metadata": {
        "colab": {
          "base_uri": "https://localhost:8080/",
          "height": 452
        },
        "id": "sQEMAMTp5c3j",
        "outputId": "06cffcdf-8c60-475d-bf32-3e204573c5b6"
      },
      "execution_count": 27,
      "outputs": [
        {
          "output_type": "execute_result",
          "data": {
            "text/plain": [
              "<class 'statsmodels.iolib.summary.Summary'>\n",
              "\"\"\"\n",
              "                            OLS Regression Results                            \n",
              "==============================================================================\n",
              "Dep. Variable:                    tip   R-squared:                       0.317\n",
              "Model:                            OLS   Adj. R-squared:                  0.314\n",
              "Method:                 Least Squares   F-statistic:                     111.2\n",
              "Date:                Sun, 02 Jul 2023   Prob (F-statistic):           1.30e-21\n",
              "Time:                        20:27:44   Log-Likelihood:                -374.91\n",
              "No. Observations:                 242   AIC:                             753.8\n",
              "Df Residuals:                     240   BIC:                             760.8\n",
              "Df Model:                           1                                         \n",
              "Covariance Type:            nonrobust                                         \n",
              "=========================================================================================\n",
              "                            coef    std err          t      P>|t|      [0.025      0.975]\n",
              "-----------------------------------------------------------------------------------------\n",
              "Intercept                 2.2202      0.103     21.494      0.000       2.017       2.424\n",
              "np.power(net_bill, 2)     0.0022      0.000     10.546      0.000       0.002       0.003\n",
              "==============================================================================\n",
              "Omnibus:                       21.866   Durbin-Watson:                   2.177\n",
              "Prob(Omnibus):                  0.000   Jarque-Bera (JB):               31.936\n",
              "Skew:                           0.579   Prob(JB):                     1.16e-07\n",
              "Kurtosis:                       4.351   Cond. No.                         698.\n",
              "==============================================================================\n",
              "\n",
              "Notes:\n",
              "[1] Standard Errors assume that the covariance matrix of the errors is correctly specified.\n",
              "\"\"\""
            ],
            "text/html": [
              "<table class=\"simpletable\">\n",
              "<caption>OLS Regression Results</caption>\n",
              "<tr>\n",
              "  <th>Dep. Variable:</th>           <td>tip</td>       <th>  R-squared:         </th> <td>   0.317</td>\n",
              "</tr>\n",
              "<tr>\n",
              "  <th>Model:</th>                   <td>OLS</td>       <th>  Adj. R-squared:    </th> <td>   0.314</td>\n",
              "</tr>\n",
              "<tr>\n",
              "  <th>Method:</th>             <td>Least Squares</td>  <th>  F-statistic:       </th> <td>   111.2</td>\n",
              "</tr>\n",
              "<tr>\n",
              "  <th>Date:</th>             <td>Sun, 02 Jul 2023</td> <th>  Prob (F-statistic):</th> <td>1.30e-21</td>\n",
              "</tr>\n",
              "<tr>\n",
              "  <th>Time:</th>                 <td>20:27:44</td>     <th>  Log-Likelihood:    </th> <td> -374.91</td>\n",
              "</tr>\n",
              "<tr>\n",
              "  <th>No. Observations:</th>      <td>   242</td>      <th>  AIC:               </th> <td>   753.8</td>\n",
              "</tr>\n",
              "<tr>\n",
              "  <th>Df Residuals:</th>          <td>   240</td>      <th>  BIC:               </th> <td>   760.8</td>\n",
              "</tr>\n",
              "<tr>\n",
              "  <th>Df Model:</th>              <td>     1</td>      <th>                     </th>     <td> </td>   \n",
              "</tr>\n",
              "<tr>\n",
              "  <th>Covariance Type:</th>      <td>nonrobust</td>    <th>                     </th>     <td> </td>   \n",
              "</tr>\n",
              "</table>\n",
              "<table class=\"simpletable\">\n",
              "<tr>\n",
              "            <td></td>               <th>coef</th>     <th>std err</th>      <th>t</th>      <th>P>|t|</th>  <th>[0.025</th>    <th>0.975]</th>  \n",
              "</tr>\n",
              "<tr>\n",
              "  <th>Intercept</th>             <td>    2.2202</td> <td>    0.103</td> <td>   21.494</td> <td> 0.000</td> <td>    2.017</td> <td>    2.424</td>\n",
              "</tr>\n",
              "<tr>\n",
              "  <th>np.power(net_bill, 2)</th> <td>    0.0022</td> <td>    0.000</td> <td>   10.546</td> <td> 0.000</td> <td>    0.002</td> <td>    0.003</td>\n",
              "</tr>\n",
              "</table>\n",
              "<table class=\"simpletable\">\n",
              "<tr>\n",
              "  <th>Omnibus:</th>       <td>21.866</td> <th>  Durbin-Watson:     </th> <td>   2.177</td>\n",
              "</tr>\n",
              "<tr>\n",
              "  <th>Prob(Omnibus):</th> <td> 0.000</td> <th>  Jarque-Bera (JB):  </th> <td>  31.936</td>\n",
              "</tr>\n",
              "<tr>\n",
              "  <th>Skew:</th>          <td> 0.579</td> <th>  Prob(JB):          </th> <td>1.16e-07</td>\n",
              "</tr>\n",
              "<tr>\n",
              "  <th>Kurtosis:</th>      <td> 4.351</td> <th>  Cond. No.          </th> <td>    698.</td>\n",
              "</tr>\n",
              "</table><br/><br/>Notes:<br/>[1] Standard Errors assume that the covariance matrix of the errors is correctly specified."
            ]
          },
          "metadata": {},
          "execution_count": 27
        }
      ]
    },
    {
      "cell_type": "markdown",
      "source": [
        "."
      ],
      "metadata": {
        "id": "xMFdxOoEDdwa"
      }
    },
    {
      "cell_type": "code",
      "source": [
        "print('net_bill com log: ',modelo_log.rsquared)\n",
        "print('net_bill com polinomio: ',modelo_poli.rsquared)"
      ],
      "metadata": {
        "colab": {
          "base_uri": "https://localhost:8080/"
        },
        "id": "3MBq60xdSCYO",
        "outputId": "2b8e9f27-1a89-4638-daed-3cb8e4289ec3"
      },
      "execution_count": 29,
      "outputs": [
        {
          "output_type": "stream",
          "name": "stdout",
          "text": [
            "net_bill com log:  0.3674763728526953\n",
            "net_bill com polinomio:  0.31666430902977505\n"
          ]
        }
      ]
    },
    {
      "cell_type": "markdown",
      "source": [
        "O melhor modelo foi `net_bill` com log pois ficou com o R² maior"
      ],
      "metadata": {
        "id": "pbKT-rB4C3WK"
      }
    },
    {
      "cell_type": "markdown",
      "source": [
        ".\n"
      ],
      "metadata": {
        "id": "OuGYF0x6Dfx5"
      }
    },
    {
      "cell_type": "markdown",
      "metadata": {
        "id": "_1GDtr98jcWw"
      },
      "source": [
        "### II. Modelo no valor do percentual da gorjeta\n",
        "\n",
        "1. Crie a matriz de design (e a matriz y) utilizando o Patsy, para um modelo no log de ```tip```, explicado por ```sex, smoker, diner e net_bill```.\n",
        "2. Remova as variáveis não significantes.\n",
        "3. Observe o gráfico de resíduos em função de ```net_bill```\n",
        "4. Teste transformar ```net_bill``` no log e um polinômio. Escolha o melhor modelo.\n",
        "5. Do modelo final deste item, calcule o $R^2$ na escala de ```tip``` (sem o log). Compare com o modelo do item 1. Qual tem melhor coeficiente de determinação?"
      ]
    },
    {
      "cell_type": "markdown",
      "source": [
        "### 1 - Crie a matriz de design (e a matriz y) utilizando o Patsy, para um modelo no log de tip, explicado por sex, smoker, diner e net_bill."
      ],
      "metadata": {
        "id": "2JPUEHu9UPPe"
      }
    },
    {
      "cell_type": "code",
      "execution_count": 34,
      "metadata": {
        "id": "Jsly_0xxjcWw",
        "colab": {
          "base_uri": "https://localhost:8080/"
        },
        "outputId": "0f333c9a-12b3-474b-c770-1f22c06b6ab8"
      },
      "outputs": [
        {
          "output_type": "execute_result",
          "data": {
            "text/plain": [
              "DesignMatrix with shape (242, 5)\n",
              "  Intercept  sex[T.Female]  smoker[T.No]  time[T.Dinner]  net_bill\n",
              "          1              1             1               1     15.98\n",
              "          1              0             1               1      8.68\n",
              "          1              0             1               1     17.51\n",
              "          1              0             1               1     20.37\n",
              "          1              1             1               1     20.98\n",
              "          1              0             1               1     20.58\n",
              "          1              0             1               1      6.77\n",
              "          1              0             1               1     23.76\n",
              "          1              0             1               1     13.08\n",
              "          1              0             1               1     11.55\n",
              "          1              0             1               1      8.56\n",
              "          1              1             1               1     30.26\n",
              "          1              0             1               1     13.85\n",
              "          1              0             1               1     15.43\n",
              "          1              1             1               1     11.81\n",
              "          1              0             1               1     17.66\n",
              "          1              1             1               1      8.66\n",
              "          1              0             1               1     12.58\n",
              "          1              1             1               1     13.47\n",
              "          1              0             1               1     17.30\n",
              "          1              0             1               1     13.84\n",
              "          1              1             1               1     17.54\n",
              "          1              1             1               1     13.54\n",
              "          1              0             1               1     31.84\n",
              "          1              0             1               1     16.64\n",
              "          1              0             1               1     15.47\n",
              "          1              0             1               1     11.37\n",
              "          1              0             1               1     10.69\n",
              "          1              0             1               1     17.40\n",
              "          1              1             1               1     16.65\n",
              "  [212 rows omitted]\n",
              "  Terms:\n",
              "    'Intercept' (column 0)\n",
              "    'sex' (column 1)\n",
              "    'smoker' (column 2)\n",
              "    'time' (column 3)\n",
              "    'net_bill' (column 4)\n",
              "  (to view full data, use np.asarray(this_obj))"
            ]
          },
          "metadata": {},
          "execution_count": 34
        }
      ],
      "source": [
        "y, X = patsy.dmatrices('tip ~ sex + smoker + time + net_bill', tips)\n",
        "X"
      ]
    },
    {
      "cell_type": "code",
      "source": [
        "modelo2 = sm.OLS(y, X).fit()\n",
        "modelo2.summary()"
      ],
      "metadata": {
        "colab": {
          "base_uri": "https://localhost:8080/",
          "height": 516
        },
        "id": "EM5eQRgbTHsu",
        "outputId": "b38cedc9-9dea-4381-d60f-fa648f56104e"
      },
      "execution_count": 37,
      "outputs": [
        {
          "output_type": "execute_result",
          "data": {
            "text/plain": [
              "<class 'statsmodels.iolib.summary.Summary'>\n",
              "\"\"\"\n",
              "                            OLS Regression Results                            \n",
              "==============================================================================\n",
              "Dep. Variable:                    tip   R-squared:                       0.369\n",
              "Model:                            OLS   Adj. R-squared:                  0.358\n",
              "Method:                 Least Squares   F-statistic:                     34.67\n",
              "Date:                Sun, 02 Jul 2023   Prob (F-statistic):           8.79e-23\n",
              "Time:                        20:32:03   Log-Likelihood:                -365.24\n",
              "No. Observations:                 242   AIC:                             740.5\n",
              "Df Residuals:                     237   BIC:                             757.9\n",
              "Df Model:                           4                                         \n",
              "Covariance Type:            nonrobust                                         \n",
              "==================================================================================\n",
              "                     coef    std err          t      P>|t|      [0.025      0.975]\n",
              "----------------------------------------------------------------------------------\n",
              "Intercept          1.0593      0.238      4.446      0.000       0.590       1.529\n",
              "sex[T.Female]     -0.0005      0.153     -0.003      0.997      -0.302       0.301\n",
              "smoker[T.No]       0.2143      0.148      1.450      0.148      -0.077       0.505\n",
              "time[T.Dinner]     0.0079      0.164      0.048      0.962      -0.315       0.331\n",
              "net_bill           0.1058      0.009     11.483      0.000       0.088       0.124\n",
              "==============================================================================\n",
              "Omnibus:                       31.112   Durbin-Watson:                   2.112\n",
              "Prob(Omnibus):                  0.000   Jarque-Bera (JB):               57.889\n",
              "Skew:                           0.682   Prob(JB):                     2.69e-13\n",
              "Kurtosis:                       4.969   Cond. No.                         71.6\n",
              "==============================================================================\n",
              "\n",
              "Notes:\n",
              "[1] Standard Errors assume that the covariance matrix of the errors is correctly specified.\n",
              "\"\"\""
            ],
            "text/html": [
              "<table class=\"simpletable\">\n",
              "<caption>OLS Regression Results</caption>\n",
              "<tr>\n",
              "  <th>Dep. Variable:</th>           <td>tip</td>       <th>  R-squared:         </th> <td>   0.369</td>\n",
              "</tr>\n",
              "<tr>\n",
              "  <th>Model:</th>                   <td>OLS</td>       <th>  Adj. R-squared:    </th> <td>   0.358</td>\n",
              "</tr>\n",
              "<tr>\n",
              "  <th>Method:</th>             <td>Least Squares</td>  <th>  F-statistic:       </th> <td>   34.67</td>\n",
              "</tr>\n",
              "<tr>\n",
              "  <th>Date:</th>             <td>Sun, 02 Jul 2023</td> <th>  Prob (F-statistic):</th> <td>8.79e-23</td>\n",
              "</tr>\n",
              "<tr>\n",
              "  <th>Time:</th>                 <td>20:32:03</td>     <th>  Log-Likelihood:    </th> <td> -365.24</td>\n",
              "</tr>\n",
              "<tr>\n",
              "  <th>No. Observations:</th>      <td>   242</td>      <th>  AIC:               </th> <td>   740.5</td>\n",
              "</tr>\n",
              "<tr>\n",
              "  <th>Df Residuals:</th>          <td>   237</td>      <th>  BIC:               </th> <td>   757.9</td>\n",
              "</tr>\n",
              "<tr>\n",
              "  <th>Df Model:</th>              <td>     4</td>      <th>                     </th>     <td> </td>   \n",
              "</tr>\n",
              "<tr>\n",
              "  <th>Covariance Type:</th>      <td>nonrobust</td>    <th>                     </th>     <td> </td>   \n",
              "</tr>\n",
              "</table>\n",
              "<table class=\"simpletable\">\n",
              "<tr>\n",
              "         <td></td>           <th>coef</th>     <th>std err</th>      <th>t</th>      <th>P>|t|</th>  <th>[0.025</th>    <th>0.975]</th>  \n",
              "</tr>\n",
              "<tr>\n",
              "  <th>Intercept</th>      <td>    1.0593</td> <td>    0.238</td> <td>    4.446</td> <td> 0.000</td> <td>    0.590</td> <td>    1.529</td>\n",
              "</tr>\n",
              "<tr>\n",
              "  <th>sex[T.Female]</th>  <td>   -0.0005</td> <td>    0.153</td> <td>   -0.003</td> <td> 0.997</td> <td>   -0.302</td> <td>    0.301</td>\n",
              "</tr>\n",
              "<tr>\n",
              "  <th>smoker[T.No]</th>   <td>    0.2143</td> <td>    0.148</td> <td>    1.450</td> <td> 0.148</td> <td>   -0.077</td> <td>    0.505</td>\n",
              "</tr>\n",
              "<tr>\n",
              "  <th>time[T.Dinner]</th> <td>    0.0079</td> <td>    0.164</td> <td>    0.048</td> <td> 0.962</td> <td>   -0.315</td> <td>    0.331</td>\n",
              "</tr>\n",
              "<tr>\n",
              "  <th>net_bill</th>       <td>    0.1058</td> <td>    0.009</td> <td>   11.483</td> <td> 0.000</td> <td>    0.088</td> <td>    0.124</td>\n",
              "</tr>\n",
              "</table>\n",
              "<table class=\"simpletable\">\n",
              "<tr>\n",
              "  <th>Omnibus:</th>       <td>31.112</td> <th>  Durbin-Watson:     </th> <td>   2.112</td>\n",
              "</tr>\n",
              "<tr>\n",
              "  <th>Prob(Omnibus):</th> <td> 0.000</td> <th>  Jarque-Bera (JB):  </th> <td>  57.889</td>\n",
              "</tr>\n",
              "<tr>\n",
              "  <th>Skew:</th>          <td> 0.682</td> <th>  Prob(JB):          </th> <td>2.69e-13</td>\n",
              "</tr>\n",
              "<tr>\n",
              "  <th>Kurtosis:</th>      <td> 4.969</td> <th>  Cond. No.          </th> <td>    71.6</td>\n",
              "</tr>\n",
              "</table><br/><br/>Notes:<br/>[1] Standard Errors assume that the covariance matrix of the errors is correctly specified."
            ]
          },
          "metadata": {},
          "execution_count": 37
        }
      ]
    },
    {
      "cell_type": "markdown",
      "source": [
        "..."
      ],
      "metadata": {
        "id": "6tPIlhr_UVu1"
      }
    },
    {
      "cell_type": "markdown",
      "source": [
        "### 2 - Remova as variáveis não significantes."
      ],
      "metadata": {
        "id": "eMGF38FvUTve"
      }
    },
    {
      "cell_type": "code",
      "source": [
        "y, X = patsy.dmatrices('tip ~  net_bill', tips)\n",
        "X"
      ],
      "metadata": {
        "colab": {
          "base_uri": "https://localhost:8080/"
        },
        "id": "W2v2LmF_TzJ2",
        "outputId": "887fc210-8d95-4fb4-b7a7-cac80efbcd6b"
      },
      "execution_count": 38,
      "outputs": [
        {
          "output_type": "execute_result",
          "data": {
            "text/plain": [
              "DesignMatrix with shape (242, 2)\n",
              "  Intercept  net_bill\n",
              "          1     15.98\n",
              "          1      8.68\n",
              "          1     17.51\n",
              "          1     20.37\n",
              "          1     20.98\n",
              "          1     20.58\n",
              "          1      6.77\n",
              "          1     23.76\n",
              "          1     13.08\n",
              "          1     11.55\n",
              "          1      8.56\n",
              "          1     30.26\n",
              "          1     13.85\n",
              "          1     15.43\n",
              "          1     11.81\n",
              "          1     17.66\n",
              "          1      8.66\n",
              "          1     12.58\n",
              "          1     13.47\n",
              "          1     17.30\n",
              "          1     13.84\n",
              "          1     17.54\n",
              "          1     13.54\n",
              "          1     31.84\n",
              "          1     16.64\n",
              "          1     15.47\n",
              "          1     11.37\n",
              "          1     10.69\n",
              "          1     17.40\n",
              "          1     16.65\n",
              "  [212 rows omitted]\n",
              "  Terms:\n",
              "    'Intercept' (column 0)\n",
              "    'net_bill' (column 1)\n",
              "  (to view full data, use np.asarray(this_obj))"
            ]
          },
          "metadata": {},
          "execution_count": 38
        }
      ]
    },
    {
      "cell_type": "markdown",
      "source": [
        ".."
      ],
      "metadata": {
        "id": "oY63NpJeUgMd"
      }
    },
    {
      "cell_type": "markdown",
      "source": [
        "### 3 - Observe o gráfico de resíduos em função de net_bill"
      ],
      "metadata": {
        "id": "C5O92f4TUhI2"
      }
    },
    {
      "cell_type": "code",
      "source": [
        "sns.regplot(tips, x='net_bill', y=modelo2.resid)"
      ],
      "metadata": {
        "colab": {
          "base_uri": "https://localhost:8080/",
          "height": 472
        },
        "id": "XKfUjlqXT2xn",
        "outputId": "48749f50-3f72-4a80-e13f-97e5052b190c"
      },
      "execution_count": 40,
      "outputs": [
        {
          "output_type": "execute_result",
          "data": {
            "text/plain": [
              "<Axes: xlabel='net_bill'>"
            ]
          },
          "metadata": {},
          "execution_count": 40
        },
        {
          "output_type": "display_data",
          "data": {
            "text/plain": [
              "<Figure size 640x480 with 1 Axes>"
            ],
            "image/png": "[encoded data removed]"
          },
          "metadata": {}
        }
      ]
    },
    {
      "cell_type": "markdown",
      "source": [
        ".."
      ],
      "metadata": {
        "id": "f-gmZhgUUqYl"
      }
    },
    {
      "cell_type": "markdown",
      "source": [
        "### 4 - Teste transformar net_bill no log e um polinômio. Escolha o melhor modelo."
      ],
      "metadata": {
        "id": "WB4cRDGXUrPH"
      }
    },
    {
      "cell_type": "code",
      "source": [
        "y, X = patsy.dmatrices('tip ~  np.power(net_bill, 2)', tips)\n",
        "X"
      ],
      "metadata": {
        "colab": {
          "base_uri": "https://localhost:8080/"
        },
        "id": "yWAQih7vUuV4",
        "outputId": "cf82fae6-181a-4588-e6f0-62d41026fc32"
      },
      "execution_count": 42,
      "outputs": [
        {
          "output_type": "execute_result",
          "data": {
            "text/plain": [
              "DesignMatrix with shape (242, 2)\n",
              "  Intercept  np.power(net_bill, 2)\n",
              "          1               255.3604\n",
              "          1                75.3424\n",
              "          1               306.6001\n",
              "          1               414.9369\n",
              "          1               440.1604\n",
              "          1               423.5364\n",
              "          1                45.8329\n",
              "          1               564.5376\n",
              "          1               171.0864\n",
              "          1               133.4025\n",
              "          1                73.2736\n",
              "          1               915.6676\n",
              "          1               191.8225\n",
              "          1               238.0849\n",
              "          1               139.4761\n",
              "          1               311.8756\n",
              "          1                74.9956\n",
              "          1               158.2564\n",
              "          1               181.4409\n",
              "          1               299.2900\n",
              "          1               191.5456\n",
              "          1               307.6516\n",
              "          1               183.3316\n",
              "          1              1013.7856\n",
              "          1               276.8896\n",
              "          1               239.3209\n",
              "          1               129.2769\n",
              "          1               114.2761\n",
              "          1               302.7600\n",
              "          1               277.2225\n",
              "  [212 rows omitted]\n",
              "  Terms:\n",
              "    'Intercept' (column 0)\n",
              "    'np.power(net_bill, 2)' (column 1)\n",
              "  (to view full data, use np.asarray(this_obj))"
            ]
          },
          "metadata": {},
          "execution_count": 42
        }
      ]
    },
    {
      "cell_type": "code",
      "source": [
        "modelo_polinomio = sm.OLS(y, X).fit()\n",
        "modelo_polinomio.summary()"
      ],
      "metadata": {
        "colab": {
          "base_uri": "https://localhost:8080/",
          "height": 452
        },
        "id": "whDmrZzZU8uO",
        "outputId": "fb01fdba-a399-4adb-ada5-86e9fb280615"
      },
      "execution_count": 44,
      "outputs": [
        {
          "output_type": "execute_result",
          "data": {
            "text/plain": [
              "<class 'statsmodels.iolib.summary.Summary'>\n",
              "\"\"\"\n",
              "                            OLS Regression Results                            \n",
              "==============================================================================\n",
              "Dep. Variable:                    tip   R-squared:                       0.317\n",
              "Model:                            OLS   Adj. R-squared:                  0.314\n",
              "Method:                 Least Squares   F-statistic:                     111.2\n",
              "Date:                Sun, 02 Jul 2023   Prob (F-statistic):           1.30e-21\n",
              "Time:                        20:39:26   Log-Likelihood:                -374.91\n",
              "No. Observations:                 242   AIC:                             753.8\n",
              "Df Residuals:                     240   BIC:                             760.8\n",
              "Df Model:                           1                                         \n",
              "Covariance Type:            nonrobust                                         \n",
              "=========================================================================================\n",
              "                            coef    std err          t      P>|t|      [0.025      0.975]\n",
              "-----------------------------------------------------------------------------------------\n",
              "Intercept                 2.2202      0.103     21.494      0.000       2.017       2.424\n",
              "np.power(net_bill, 2)     0.0022      0.000     10.546      0.000       0.002       0.003\n",
              "==============================================================================\n",
              "Omnibus:                       21.866   Durbin-Watson:                   2.177\n",
              "Prob(Omnibus):                  0.000   Jarque-Bera (JB):               31.936\n",
              "Skew:                           0.579   Prob(JB):                     1.16e-07\n",
              "Kurtosis:                       4.351   Cond. No.                         698.\n",
              "==============================================================================\n",
              "\n",
              "Notes:\n",
              "[1] Standard Errors assume that the covariance matrix of the errors is correctly specified.\n",
              "\"\"\""
            ],
            "text/html": [
              "<table class=\"simpletable\">\n",
              "<caption>OLS Regression Results</caption>\n",
              "<tr>\n",
              "  <th>Dep. Variable:</th>           <td>tip</td>       <th>  R-squared:         </th> <td>   0.317</td>\n",
              "</tr>\n",
              "<tr>\n",
              "  <th>Model:</th>                   <td>OLS</td>       <th>  Adj. R-squared:    </th> <td>   0.314</td>\n",
              "</tr>\n",
              "<tr>\n",
              "  <th>Method:</th>             <td>Least Squares</td>  <th>  F-statistic:       </th> <td>   111.2</td>\n",
              "</tr>\n",
              "<tr>\n",
              "  <th>Date:</th>             <td>Sun, 02 Jul 2023</td> <th>  Prob (F-statistic):</th> <td>1.30e-21</td>\n",
              "</tr>\n",
              "<tr>\n",
              "  <th>Time:</th>                 <td>20:39:26</td>     <th>  Log-Likelihood:    </th> <td> -374.91</td>\n",
              "</tr>\n",
              "<tr>\n",
              "  <th>No. Observations:</th>      <td>   242</td>      <th>  AIC:               </th> <td>   753.8</td>\n",
              "</tr>\n",
              "<tr>\n",
              "  <th>Df Residuals:</th>          <td>   240</td>      <th>  BIC:               </th> <td>   760.8</td>\n",
              "</tr>\n",
              "<tr>\n",
              "  <th>Df Model:</th>              <td>     1</td>      <th>                     </th>     <td> </td>   \n",
              "</tr>\n",
              "<tr>\n",
              "  <th>Covariance Type:</th>      <td>nonrobust</td>    <th>                     </th>     <td> </td>   \n",
              "</tr>\n",
              "</table>\n",
              "<table class=\"simpletable\">\n",
              "<tr>\n",
              "            <td></td>               <th>coef</th>     <th>std err</th>      <th>t</th>      <th>P>|t|</th>  <th>[0.025</th>    <th>0.975]</th>  \n",
              "</tr>\n",
              "<tr>\n",
              "  <th>Intercept</th>             <td>    2.2202</td> <td>    0.103</td> <td>   21.494</td> <td> 0.000</td> <td>    2.017</td> <td>    2.424</td>\n",
              "</tr>\n",
              "<tr>\n",
              "  <th>np.power(net_bill, 2)</th> <td>    0.0022</td> <td>    0.000</td> <td>   10.546</td> <td> 0.000</td> <td>    0.002</td> <td>    0.003</td>\n",
              "</tr>\n",
              "</table>\n",
              "<table class=\"simpletable\">\n",
              "<tr>\n",
              "  <th>Omnibus:</th>       <td>21.866</td> <th>  Durbin-Watson:     </th> <td>   2.177</td>\n",
              "</tr>\n",
              "<tr>\n",
              "  <th>Prob(Omnibus):</th> <td> 0.000</td> <th>  Jarque-Bera (JB):  </th> <td>  31.936</td>\n",
              "</tr>\n",
              "<tr>\n",
              "  <th>Skew:</th>          <td> 0.579</td> <th>  Prob(JB):          </th> <td>1.16e-07</td>\n",
              "</tr>\n",
              "<tr>\n",
              "  <th>Kurtosis:</th>      <td> 4.351</td> <th>  Cond. No.          </th> <td>    698.</td>\n",
              "</tr>\n",
              "</table><br/><br/>Notes:<br/>[1] Standard Errors assume that the covariance matrix of the errors is correctly specified."
            ]
          },
          "metadata": {},
          "execution_count": 44
        }
      ]
    },
    {
      "cell_type": "code",
      "source": [
        "y, X = patsy.dmatrices('tip ~  np.log(net_bill)', tips)\n",
        "X"
      ],
      "metadata": {
        "colab": {
          "base_uri": "https://localhost:8080/"
        },
        "id": "U1KTTXN9VRi3",
        "outputId": "9d55ac77-efca-4378-bff8-f672cecc1296"
      },
      "execution_count": 45,
      "outputs": [
        {
          "output_type": "execute_result",
          "data": {
            "text/plain": [
              "DesignMatrix with shape (242, 2)\n",
              "  Intercept  np.log(net_bill)\n",
              "          1           2.77134\n",
              "          1           2.16102\n",
              "          1           2.86277\n",
              "          1           3.01406\n",
              "          1           3.04357\n",
              "          1           3.02432\n",
              "          1           1.91250\n",
              "          1           3.16800\n",
              "          1           2.57108\n",
              "          1           2.44669\n",
              "          1           2.14710\n",
              "          1           3.40983\n",
              "          1           2.62829\n",
              "          1           2.73631\n",
              "          1           2.46895\n",
              "          1           2.87130\n",
              "          1           2.15871\n",
              "          1           2.53211\n",
              "          1           2.60046\n",
              "          1           2.85071\n",
              "          1           2.62756\n",
              "          1           2.86448\n",
              "          1           2.60565\n",
              "          1           3.46072\n",
              "          1           2.81181\n",
              "          1           2.73890\n",
              "          1           2.43098\n",
              "          1           2.36931\n",
              "          1           2.85647\n",
              "          1           2.81241\n",
              "  [212 rows omitted]\n",
              "  Terms:\n",
              "    'Intercept' (column 0)\n",
              "    'np.log(net_bill)' (column 1)\n",
              "  (to view full data, use np.asarray(this_obj))"
            ]
          },
          "metadata": {},
          "execution_count": 45
        }
      ]
    },
    {
      "cell_type": "code",
      "source": [
        "modelo_logaritimo = sm.OLS(y, X).fit()\n",
        "modelo_logaritimo.summary()"
      ],
      "metadata": {
        "colab": {
          "base_uri": "https://localhost:8080/",
          "height": 452
        },
        "id": "a_xV1KqOVV-N",
        "outputId": "12698d92-78f4-4044-d778-9119f76bdf41"
      },
      "execution_count": 46,
      "outputs": [
        {
          "output_type": "execute_result",
          "data": {
            "text/plain": [
              "<class 'statsmodels.iolib.summary.Summary'>\n",
              "\"\"\"\n",
              "                            OLS Regression Results                            \n",
              "==============================================================================\n",
              "Dep. Variable:                    tip   R-squared:                       0.367\n",
              "Model:                            OLS   Adj. R-squared:                  0.365\n",
              "Method:                 Least Squares   F-statistic:                     139.4\n",
              "Date:                Sun, 02 Jul 2023   Prob (F-statistic):           1.13e-25\n",
              "Time:                        20:40:40   Log-Likelihood:                -365.56\n",
              "No. Observations:                 242   AIC:                             735.1\n",
              "Df Residuals:                     240   BIC:                             742.1\n",
              "Df Model:                           1                                         \n",
              "Covariance Type:            nonrobust                                         \n",
              "====================================================================================\n",
              "                       coef    std err          t      P>|t|      [0.025      0.975]\n",
              "------------------------------------------------------------------------------------\n",
              "Intercept           -1.9851      0.427     -4.651      0.000      -2.826      -1.144\n",
              "np.log(net_bill)     1.8248      0.155     11.808      0.000       1.520       2.129\n",
              "==============================================================================\n",
              "Omnibus:                       46.523   Durbin-Watson:                   2.022\n",
              "Prob(Omnibus):                  0.000   Jarque-Bera (JB):              112.909\n",
              "Skew:                           0.881   Prob(JB):                     3.04e-25\n",
              "Kurtosis:                       5.844   Cond. No.                         18.8\n",
              "==============================================================================\n",
              "\n",
              "Notes:\n",
              "[1] Standard Errors assume that the covariance matrix of the errors is correctly specified.\n",
              "\"\"\""
            ],
            "text/html": [
              "<table class=\"simpletable\">\n",
              "<caption>OLS Regression Results</caption>\n",
              "<tr>\n",
              "  <th>Dep. Variable:</th>           <td>tip</td>       <th>  R-squared:         </th> <td>   0.367</td>\n",
              "</tr>\n",
              "<tr>\n",
              "  <th>Model:</th>                   <td>OLS</td>       <th>  Adj. R-squared:    </th> <td>   0.365</td>\n",
              "</tr>\n",
              "<tr>\n",
              "  <th>Method:</th>             <td>Least Squares</td>  <th>  F-statistic:       </th> <td>   139.4</td>\n",
              "</tr>\n",
              "<tr>\n",
              "  <th>Date:</th>             <td>Sun, 02 Jul 2023</td> <th>  Prob (F-statistic):</th> <td>1.13e-25</td>\n",
              "</tr>\n",
              "<tr>\n",
              "  <th>Time:</th>                 <td>20:40:40</td>     <th>  Log-Likelihood:    </th> <td> -365.56</td>\n",
              "</tr>\n",
              "<tr>\n",
              "  <th>No. Observations:</th>      <td>   242</td>      <th>  AIC:               </th> <td>   735.1</td>\n",
              "</tr>\n",
              "<tr>\n",
              "  <th>Df Residuals:</th>          <td>   240</td>      <th>  BIC:               </th> <td>   742.1</td>\n",
              "</tr>\n",
              "<tr>\n",
              "  <th>Df Model:</th>              <td>     1</td>      <th>                     </th>     <td> </td>   \n",
              "</tr>\n",
              "<tr>\n",
              "  <th>Covariance Type:</th>      <td>nonrobust</td>    <th>                     </th>     <td> </td>   \n",
              "</tr>\n",
              "</table>\n",
              "<table class=\"simpletable\">\n",
              "<tr>\n",
              "          <td></td>            <th>coef</th>     <th>std err</th>      <th>t</th>      <th>P>|t|</th>  <th>[0.025</th>    <th>0.975]</th>  \n",
              "</tr>\n",
              "<tr>\n",
              "  <th>Intercept</th>        <td>   -1.9851</td> <td>    0.427</td> <td>   -4.651</td> <td> 0.000</td> <td>   -2.826</td> <td>   -1.144</td>\n",
              "</tr>\n",
              "<tr>\n",
              "  <th>np.log(net_bill)</th> <td>    1.8248</td> <td>    0.155</td> <td>   11.808</td> <td> 0.000</td> <td>    1.520</td> <td>    2.129</td>\n",
              "</tr>\n",
              "</table>\n",
              "<table class=\"simpletable\">\n",
              "<tr>\n",
              "  <th>Omnibus:</th>       <td>46.523</td> <th>  Durbin-Watson:     </th> <td>   2.022</td>\n",
              "</tr>\n",
              "<tr>\n",
              "  <th>Prob(Omnibus):</th> <td> 0.000</td> <th>  Jarque-Bera (JB):  </th> <td> 112.909</td>\n",
              "</tr>\n",
              "<tr>\n",
              "  <th>Skew:</th>          <td> 0.881</td> <th>  Prob(JB):          </th> <td>3.04e-25</td>\n",
              "</tr>\n",
              "<tr>\n",
              "  <th>Kurtosis:</th>      <td> 5.844</td> <th>  Cond. No.          </th> <td>    18.8</td>\n",
              "</tr>\n",
              "</table><br/><br/>Notes:<br/>[1] Standard Errors assume that the covariance matrix of the errors is correctly specified."
            ]
          },
          "metadata": {},
          "execution_count": 46
        }
      ]
    },
    {
      "cell_type": "code",
      "source": [
        "print('net_bill com polinomio: ', modelo_polinomio.rsquared)\n",
        "print('net_bill com log: ', modelo_logaritimo.rsquared)"
      ],
      "metadata": {
        "colab": {
          "base_uri": "https://localhost:8080/"
        },
        "id": "11hZyRkjVn5F",
        "outputId": "acfab044-a3ab-4020-835e-289082c53a4f"
      },
      "execution_count": 54,
      "outputs": [
        {
          "output_type": "stream",
          "name": "stdout",
          "text": [
            "net_bill com polinomio:  0.31666430902977505\n",
            "net_bill com log:  0.3674763728526953\n"
          ]
        }
      ]
    },
    {
      "cell_type": "markdown",
      "source": [
        "O melhor modelo foi `net_bill` com log pois ficou com o R² maior"
      ],
      "metadata": {
        "id": "SxAiWkN8X8VF"
      }
    },
    {
      "cell_type": "markdown",
      "source": [
        ".."
      ],
      "metadata": {
        "id": "PU9bDZm3YEqu"
      }
    },
    {
      "cell_type": "markdown",
      "source": [
        "### 5 - Do modelo final deste item, calcule o  R2  na escala de tip (sem o log). Compare com o modelo do item 1. Qual tem melhor coeficiente de determinação?"
      ],
      "metadata": {
        "id": "LcPvg_H5YFZc"
      }
    },
    {
      "cell_type": "code",
      "source": [
        "tips['pred_tip'] = np.exp(modelo.fittedvalues)\n",
        "print('tip sem log: ',tips[['pred_tip', 'tip']].corr().iloc[0,1]**2)\n",
        "\n",
        "tips['pred_tip2'] = np.exp(modelo2.fittedvalues)\n",
        "print('Modelo 2:    ',tips[['pred_tip2', 'tip']].corr().iloc[0,1]**2)"
      ],
      "metadata": {
        "colab": {
          "base_uri": "https://localhost:8080/"
        },
        "id": "8PyqL_HSYGgV",
        "outputId": "3304e28e-029a-48b2-e7b5-6afff5999094"
      },
      "execution_count": 60,
      "outputs": [
        {
          "output_type": "stream",
          "name": "stdout",
          "text": [
            "tip sem log:  0.16901656201105675\n",
            "Modelo 2:     0.25831711408429403\n"
          ]
        }
      ]
    },
    {
      "cell_type": "markdown",
      "metadata": {
        "id": "feQrh2jIjcWx"
      },
      "source": [
        "### III. Previsão de renda\n",
        "\n",
        "Vamos trabalhar a base que você vai usar no projeto do final deste ciclo.\n",
        "\n",
        "Carregue a base ```previsao_de_renda.csv```.\n",
        "\n",
        "|variavel|descrição|\n",
        "|-|-|\n",
        "|data_ref                | Data de referência de coleta das variáveis |\n",
        "|index                   | Código de identificação do cliente|\n",
        "|sexo                    | Sexo do cliente|\n",
        "|posse_de_veiculo        | Indica se o cliente possui veículo|\n",
        "|posse_de_imovel         | Indica se o cliente possui imóvel|\n",
        "|qtd_filhos              | Quantidade de filhos do cliente|\n",
        "|tipo_renda              | Tipo de renda do cliente|\n",
        "|educacao                | Grau de instrução do cliente|\n",
        "|estado_civil            | Estado civil do cliente|\n",
        "|tipo_residencia         | Tipo de residência do cliente (própria, alugada etc)|\n",
        "|idade                   | Idade do cliente|\n",
        "|tempo_emprego           | Tempo no emprego atual|\n",
        "|qt_pessoas_residencia   | Quantidade de pessoas que moram na residência|\n",
        "|renda                   | Renda em reais|\n",
        "\n",
        "1. Ajuste um modelo de regressão linear simples para explicar ```renda``` como variável resposta, por ```tempo_emprego``` como variável explicativa. Observe que há muitas observações nessa tabela. Utilize os recursos que achar necessário.\n",
        "2. Faça uma análise de resíduos. Com os recursos vistos neste módulo, como você melhoraria esta regressão?\n",
        "3. Ajuste um modelo de regressão linear múltipla para explicar ```renda``` (ou uma transformação de ```renda```) de acordo com as demais variáveis.\n",
        "4. Remova as variáveis não significantes e ajuste novamente o modelo. Interprete os parâmetros\n",
        "5. Faça uma análise de resíduos. Avalie a qualidade do ajuste."
      ]
    },
    {
      "cell_type": "markdown",
      "source": [
        "###1 - Ajuste um modelo de regressão linear simples para explicar renda como variável resposta, por tempo_emprego como variável explicativa. Observe que há muitas observações nessa tabela. Utilize os recursos que achar necessário."
      ],
      "metadata": {
        "id": "g__azHDrbQjL"
      }
    },
    {
      "cell_type": "code",
      "execution_count": 152,
      "metadata": {
        "id": "wj2S55amjcWx"
      },
      "outputs": [],
      "source": [
        "df_renda = pd.read_csv('previsao_renda.csv')"
      ]
    },
    {
      "cell_type": "code",
      "source": [
        "df_renda.head(2)"
      ],
      "metadata": {
        "colab": {
          "base_uri": "https://localhost:8080/",
          "height": 208
        },
        "id": "Sm8vsTvYa9s0",
        "outputId": "b000bd7e-03e9-4c62-da89-829eba070707"
      },
      "execution_count": 153,
      "outputs": [
        {
          "output_type": "execute_result",
          "data": {
            "text/plain": [
              "   Unnamed: 0    data_ref  index sexo  posse_de_veiculo  posse_de_imovel  \\\n",
              "0           0  2015-01-01   8682    F             False             True   \n",
              "1           1  2015-01-01  12830    M              True             True   \n",
              "\n",
              "   qtd_filhos   tipo_renda    educacao estado_civil tipo_residencia  idade  \\\n",
              "0           1  Assalariado  Secundário       Casado            Casa     36   \n",
              "1           0   Empresário  Secundário       Casado            Casa     42   \n",
              "\n",
              "   tempo_emprego  qt_pessoas_residencia    mau    renda  \n",
              "0       3.575342                    3.0  False  3369.24  \n",
              "1       0.860274                    2.0  False  6096.14  "
            ],
            "text/html": [
              "\n",
              "  <div id=\"df-cc18d53c-5cbb-495c-9ce2-d36fe57fc0e2\">\n",
              "    <div class=\"colab-df-container\">\n",
              "      <div>\n",
              "<style scoped>\n",
              "    .dataframe tbody tr th:only-of-type {\n",
              "        vertical-align: middle;\n",
              "    }\n",
              "\n",
              "    .dataframe tbody tr th {\n",
              "        vertical-align: top;\n",
              "    }\n",
              "\n",
              "    .dataframe thead th {\n",
              "        text-align: right;\n",
              "    }\n",
              "</style>\n",
              "<table border=\"1\" class=\"dataframe\">\n",
              "  <thead>\n",
              "    <tr style=\"text-align: right;\">\n",
              "      <th></th>\n",
              "      <th>Unnamed: 0</th>\n",
              "      <th>data_ref</th>\n",
              "      <th>index</th>\n",
              "      <th>sexo</th>\n",
              "      <th>posse_de_veiculo</th>\n",
              "      <th>posse_de_imovel</th>\n",
              "      <th>qtd_filhos</th>\n",
              "      <th>tipo_renda</th>\n",
              "      <th>educacao</th>\n",
              "      <th>estado_civil</th>\n",
              "      <th>tipo_residencia</th>\n",
              "      <th>idade</th>\n",
              "      <th>tempo_emprego</th>\n",
              "      <th>qt_pessoas_residencia</th>\n",
              "      <th>mau</th>\n",
              "      <th>renda</th>\n",
              "    </tr>\n",
              "  </thead>\n",
              "  <tbody>\n",
              "    <tr>\n",
              "      <th>0</th>\n",
              "      <td>0</td>\n",
              "      <td>2015-01-01</td>\n",
              "      <td>8682</td>\n",
              "      <td>F</td>\n",
              "      <td>False</td>\n",
              "      <td>True</td>\n",
              "      <td>1</td>\n",
              "      <td>Assalariado</td>\n",
              "      <td>Secundário</td>\n",
              "      <td>Casado</td>\n",
              "      <td>Casa</td>\n",
              "      <td>36</td>\n",
              "      <td>3.575342</td>\n",
              "      <td>3.0</td>\n",
              "      <td>False</td>\n",
              "      <td>3369.24</td>\n",
              "    </tr>\n",
              "    <tr>\n",
              "      <th>1</th>\n",
              "      <td>1</td>\n",
              "      <td>2015-01-01</td>\n",
              "      <td>12830</td>\n",
              "      <td>M</td>\n",
              "      <td>True</td>\n",
              "      <td>True</td>\n",
              "      <td>0</td>\n",
              "      <td>Empresário</td>\n",
              "      <td>Secundário</td>\n",
              "      <td>Casado</td>\n",
              "      <td>Casa</td>\n",
              "      <td>42</td>\n",
              "      <td>0.860274</td>\n",
              "      <td>2.0</td>\n",
              "      <td>False</td>\n",
              "      <td>6096.14</td>\n",
              "    </tr>\n",
              "  </tbody>\n",
              "</table>\n",
              "</div>\n",
              "      <button class=\"colab-df-convert\" onclick=\"convertToInteractive('df-cc18d53c-5cbb-495c-9ce2-d36fe57fc0e2')\"\n",
              "              title=\"Convert this dataframe to an interactive table.\"\n",
              "              style=\"display:none;\">\n",
              "        \n",
              "  <svg xmlns=\"http://www.w3.org/2000/svg\" height=\"24px\"viewBox=\"0 0 24 24\"\n",
              "       width=\"24px\">\n",
              "    <path d=\"M0 0h24v24H0V0z\" fill=\"none\"/>\n",
              "    <path d=\"M18.56 5.44l.94 2.06.94-2.06 2.06-.94-2.06-.94-.94-2.06-.94 2.06-2.06.94zm-11 1L8.5 8.5l.94-2.06 2.06-.94-2.06-.94L8.5 2.5l-.94 2.06-2.06.94zm10 10l.94 2.06.94-2.06 2.06-.94-2.06-.94-.94-2.06-.94 2.06-2.06.94z\"/><path d=\"M17.41 7.96l-1.37-1.37c-.4-.4-.92-.59-1.43-.59-.52 0-1.04.2-1.43.59L10.3 9.45l-7.72 7.72c-.78.78-.78 2.05 0 2.83L4 21.41c.39.39.9.59 1.41.59.51 0 1.02-.2 1.41-.59l7.78-7.78 2.81-2.81c.8-.78.8-2.07 0-2.86zM5.41 20L4 18.59l7.72-7.72 1.47 1.35L5.41 20z\"/>\n",
              "  </svg>\n",
              "      </button>\n",
              "      \n",
              "  <style>\n",
              "    .colab-df-container {\n",
              "      display:flex;\n",
              "      flex-wrap:wrap;\n",
              "      gap: 12px;\n",
              "    }\n",
              "\n",
              "    .colab-df-convert {\n",
              "      background-color: #E8F0FE;\n",
              "      border: none;\n",
              "      border-radius: 50%;\n",
              "      cursor: pointer;\n",
              "      display: none;\n",
              "      fill: #1967D2;\n",
              "      height: 32px;\n",
              "      padding: 0 0 0 0;\n",
              "      width: 32px;\n",
              "    }\n",
              "\n",
              "    .colab-df-convert:hover {\n",
              "      background-color: #E2EBFA;\n",
              "      box-shadow: 0px 1px 2px rgba(60, 64, 67, 0.3), 0px 1px 3px 1px rgba(60, 64, 67, 0.15);\n",
              "      fill: #174EA6;\n",
              "    }\n",
              "\n",
              "    [theme=dark] .colab-df-convert {\n",
              "      background-color: #3B4455;\n",
              "      fill: #D2E3FC;\n",
              "    }\n",
              "\n",
              "    [theme=dark] .colab-df-convert:hover {\n",
              "      background-color: #434B5C;\n",
              "      box-shadow: 0px 1px 3px 1px rgba(0, 0, 0, 0.15);\n",
              "      filter: drop-shadow(0px 1px 2px rgba(0, 0, 0, 0.3));\n",
              "      fill: #FFFFFF;\n",
              "    }\n",
              "  </style>\n",
              "\n",
              "      <script>\n",
              "        const buttonEl =\n",
              "          document.querySelector('#df-cc18d53c-5cbb-495c-9ce2-d36fe57fc0e2 button.colab-df-convert');\n",
              "        buttonEl.style.display =\n",
              "          google.colab.kernel.accessAllowed ? 'block' : 'none';\n",
              "\n",
              "        async function convertToInteractive(key) {\n",
              "          const element = document.querySelector('#df-cc18d53c-5cbb-495c-9ce2-d36fe57fc0e2');\n",
              "          const dataTable =\n",
              "            await google.colab.kernel.invokeFunction('convertToInteractive',\n",
              "                                                     [key], {});\n",
              "          if (!dataTable) return;\n",
              "\n",
              "          const docLinkHtml = 'Like what you see? Visit the ' +\n",
              "            '<a target=\"_blank\" href=https://colab.research.google.com/notebooks/data_table.ipynb>data table notebook</a>'\n",
              "            + ' to learn more about interactive tables.';\n",
              "          element.innerHTML = '';\n",
              "          dataTable['output_type'] = 'display_data';\n",
              "          await google.colab.output.renderOutput(dataTable, element);\n",
              "          const docLink = document.createElement('div');\n",
              "          docLink.innerHTML = docLinkHtml;\n",
              "          element.appendChild(docLink);\n",
              "        }\n",
              "      </script>\n",
              "    </div>\n",
              "  </div>\n",
              "  "
            ]
          },
          "metadata": {},
          "execution_count": 153
        }
      ]
    },
    {
      "cell_type": "code",
      "source": [
        "df_renda.shape"
      ],
      "metadata": {
        "colab": {
          "base_uri": "https://localhost:8080/"
        },
        "id": "cAa-lGhJbyWc",
        "outputId": "1da697b2-dcaa-4d52-feec-d7f0b7fe7742"
      },
      "execution_count": 155,
      "outputs": [
        {
          "output_type": "execute_result",
          "data": {
            "text/plain": [
              "(15000, 16)"
            ]
          },
          "metadata": {},
          "execution_count": 155
        }
      ]
    },
    {
      "cell_type": "code",
      "source": [
        "df_renda.isnull().sum()"
      ],
      "metadata": {
        "colab": {
          "base_uri": "https://localhost:8080/"
        },
        "id": "Xrg6VdWJBb7Y",
        "outputId": "df888ef8-c9c7-4290-bd73-8802597ea1a8"
      },
      "execution_count": 157,
      "outputs": [
        {
          "output_type": "execute_result",
          "data": {
            "text/plain": [
              "Unnamed: 0                  0\n",
              "data_ref                    0\n",
              "index                       0\n",
              "sexo                        0\n",
              "posse_de_veiculo            0\n",
              "posse_de_imovel             0\n",
              "qtd_filhos                  0\n",
              "tipo_renda                  0\n",
              "educacao                    0\n",
              "estado_civil                0\n",
              "tipo_residencia             0\n",
              "idade                       0\n",
              "tempo_emprego            2534\n",
              "qt_pessoas_residencia       0\n",
              "mau                         0\n",
              "renda                       0\n",
              "dtype: int64"
            ]
          },
          "metadata": {},
          "execution_count": 157
        }
      ]
    },
    {
      "cell_type": "code",
      "source": [
        "df_renda.dropna(inplace=True)"
      ],
      "metadata": {
        "id": "sAVsQIjIBlD3"
      },
      "execution_count": 163,
      "outputs": []
    },
    {
      "cell_type": "code",
      "source": [
        "df_renda.shape"
      ],
      "metadata": {
        "colab": {
          "base_uri": "https://localhost:8080/"
        },
        "id": "afZmdWDOBuDo",
        "outputId": "d4a30342-da9d-493a-8a79-a8b5fd467abe"
      },
      "execution_count": 164,
      "outputs": [
        {
          "output_type": "execute_result",
          "data": {
            "text/plain": [
              "(12466, 16)"
            ]
          },
          "metadata": {},
          "execution_count": 164
        }
      ]
    },
    {
      "cell_type": "code",
      "source": [
        "y, X = patsy.dmatrices('renda ~ tempo_emprego', df_renda)\n",
        "X"
      ],
      "metadata": {
        "colab": {
          "base_uri": "https://localhost:8080/"
        },
        "id": "igyG-Xk2bKIE",
        "outputId": "aa66518e-942d-4478-c226-b72335a4edc8"
      },
      "execution_count": 165,
      "outputs": [
        {
          "output_type": "execute_result",
          "data": {
            "text/plain": [
              "DesignMatrix with shape (12466, 2)\n",
              "  Intercept  tempo_emprego\n",
              "          1        3.57534\n",
              "          1        0.86027\n",
              "          1        8.06575\n",
              "          1        1.20822\n",
              "          1       13.87397\n",
              "          1       15.56164\n",
              "          1        5.04658\n",
              "          1        1.59178\n",
              "          1        3.43014\n",
              "          1        7.21918\n",
              "          1        5.63836\n",
              "          1        4.47945\n",
              "          1       16.52877\n",
              "          1        7.93425\n",
              "          1        5.54247\n",
              "          1        5.35890\n",
              "          1        6.93425\n",
              "          1        4.00822\n",
              "          1       10.63562\n",
              "          1        2.68219\n",
              "          1       14.95890\n",
              "          1        1.52055\n",
              "          1        1.76164\n",
              "          1        2.43288\n",
              "          1        3.48767\n",
              "          1       19.96712\n",
              "          1        7.17808\n",
              "          1        0.34795\n",
              "          1        9.55342\n",
              "          1       18.38904\n",
              "  [12436 rows omitted]\n",
              "  Terms:\n",
              "    'Intercept' (column 0)\n",
              "    'tempo_emprego' (column 1)\n",
              "  (to view full data, use np.asarray(this_obj))"
            ]
          },
          "metadata": {},
          "execution_count": 165
        }
      ]
    },
    {
      "cell_type": "code",
      "source": [
        "modelo_renda = sm.OLS(y, X).fit()\n",
        "modelo_renda.summary()"
      ],
      "metadata": {
        "colab": {
          "base_uri": "https://localhost:8080/",
          "height": 452
        },
        "id": "TxHXY1lFb-d8",
        "outputId": "3c42a15b-cb0d-4dd8-f2c2-4c0f8277be38"
      },
      "execution_count": 166,
      "outputs": [
        {
          "output_type": "execute_result",
          "data": {
            "text/plain": [
              "<class 'statsmodels.iolib.summary.Summary'>\n",
              "\"\"\"\n",
              "                            OLS Regression Results                            \n",
              "==============================================================================\n",
              "Dep. Variable:                  renda   R-squared:                       0.155\n",
              "Model:                            OLS   Adj. R-squared:                  0.155\n",
              "Method:                 Least Squares   F-statistic:                     2294.\n",
              "Date:                Sun, 02 Jul 2023   Prob (F-statistic):               0.00\n",
              "Time:                        23:54:31   Log-Likelihood:            -1.2249e+05\n",
              "No. Observations:               12466   AIC:                         2.450e+05\n",
              "Df Residuals:                   12464   BIC:                         2.450e+05\n",
              "Df Model:                           1                                         \n",
              "Covariance Type:            nonrobust                                         \n",
              "=================================================================================\n",
              "                    coef    std err          t      P>|t|      [0.025      0.975]\n",
              "---------------------------------------------------------------------------------\n",
              "Intercept      2653.9453     60.924     43.561      0.000    2534.525    2773.366\n",
              "tempo_emprego   283.3509      5.916     47.892      0.000     271.754     294.948\n",
              "==============================================================================\n",
              "Omnibus:                     9974.393   Durbin-Watson:                   2.016\n",
              "Prob(Omnibus):                  0.000   Jarque-Bera (JB):           387626.996\n",
              "Skew:                           3.561   Prob(JB):                         0.00\n",
              "Kurtosis:                      29.373   Cond. No.                         15.7\n",
              "==============================================================================\n",
              "\n",
              "Notes:\n",
              "[1] Standard Errors assume that the covariance matrix of the errors is correctly specified.\n",
              "\"\"\""
            ],
            "text/html": [
              "<table class=\"simpletable\">\n",
              "<caption>OLS Regression Results</caption>\n",
              "<tr>\n",
              "  <th>Dep. Variable:</th>          <td>renda</td>      <th>  R-squared:         </th>  <td>   0.155</td>  \n",
              "</tr>\n",
              "<tr>\n",
              "  <th>Model:</th>                   <td>OLS</td>       <th>  Adj. R-squared:    </th>  <td>   0.155</td>  \n",
              "</tr>\n",
              "<tr>\n",
              "  <th>Method:</th>             <td>Least Squares</td>  <th>  F-statistic:       </th>  <td>   2294.</td>  \n",
              "</tr>\n",
              "<tr>\n",
              "  <th>Date:</th>             <td>Sun, 02 Jul 2023</td> <th>  Prob (F-statistic):</th>   <td>  0.00</td>   \n",
              "</tr>\n",
              "<tr>\n",
              "  <th>Time:</th>                 <td>23:54:31</td>     <th>  Log-Likelihood:    </th> <td>-1.2249e+05</td>\n",
              "</tr>\n",
              "<tr>\n",
              "  <th>No. Observations:</th>      <td> 12466</td>      <th>  AIC:               </th>  <td>2.450e+05</td> \n",
              "</tr>\n",
              "<tr>\n",
              "  <th>Df Residuals:</th>          <td> 12464</td>      <th>  BIC:               </th>  <td>2.450e+05</td> \n",
              "</tr>\n",
              "<tr>\n",
              "  <th>Df Model:</th>              <td>     1</td>      <th>                     </th>      <td> </td>     \n",
              "</tr>\n",
              "<tr>\n",
              "  <th>Covariance Type:</th>      <td>nonrobust</td>    <th>                     </th>      <td> </td>     \n",
              "</tr>\n",
              "</table>\n",
              "<table class=\"simpletable\">\n",
              "<tr>\n",
              "        <td></td>           <th>coef</th>     <th>std err</th>      <th>t</th>      <th>P>|t|</th>  <th>[0.025</th>    <th>0.975]</th>  \n",
              "</tr>\n",
              "<tr>\n",
              "  <th>Intercept</th>     <td> 2653.9453</td> <td>   60.924</td> <td>   43.561</td> <td> 0.000</td> <td> 2534.525</td> <td> 2773.366</td>\n",
              "</tr>\n",
              "<tr>\n",
              "  <th>tempo_emprego</th> <td>  283.3509</td> <td>    5.916</td> <td>   47.892</td> <td> 0.000</td> <td>  271.754</td> <td>  294.948</td>\n",
              "</tr>\n",
              "</table>\n",
              "<table class=\"simpletable\">\n",
              "<tr>\n",
              "  <th>Omnibus:</th>       <td>9974.393</td> <th>  Durbin-Watson:     </th>  <td>   2.016</td> \n",
              "</tr>\n",
              "<tr>\n",
              "  <th>Prob(Omnibus):</th>  <td> 0.000</td>  <th>  Jarque-Bera (JB):  </th> <td>387626.996</td>\n",
              "</tr>\n",
              "<tr>\n",
              "  <th>Skew:</th>           <td> 3.561</td>  <th>  Prob(JB):          </th>  <td>    0.00</td> \n",
              "</tr>\n",
              "<tr>\n",
              "  <th>Kurtosis:</th>       <td>29.373</td>  <th>  Cond. No.          </th>  <td>    15.7</td> \n",
              "</tr>\n",
              "</table><br/><br/>Notes:<br/>[1] Standard Errors assume that the covariance matrix of the errors is correctly specified."
            ]
          },
          "metadata": {},
          "execution_count": 166
        }
      ]
    },
    {
      "cell_type": "markdown",
      "source": [
        "### 2 - Faça uma análise de resíduos. Com os recursos vistos neste módulo, como você melhoraria esta regressão?"
      ],
      "metadata": {
        "id": "ZVnyF85XcN-l"
      }
    },
    {
      "cell_type": "code",
      "source": [
        "sns.regplot(df_renda[:12466], x='renda', y=modelo_renda.resid)"
      ],
      "metadata": {
        "colab": {
          "base_uri": "https://localhost:8080/",
          "height": 466
        },
        "id": "yWSCvWb9cRaj",
        "outputId": "f340c5d7-6cd4-484a-b92a-a3c5a95cfc1c"
      },
      "execution_count": 176,
      "outputs": [
        {
          "output_type": "execute_result",
          "data": {
            "text/plain": [
              "<Axes: xlabel='renda'>"
            ]
          },
          "metadata": {},
          "execution_count": 176
        },
        {
          "output_type": "display_data",
          "data": {
            "text/plain": [
              "<Figure size 640x480 with 1 Axes>"
            ],
            "image/png": "[encoded data removed]"
          },
          "metadata": {}
        }
      ]
    },
    {
      "cell_type": "code",
      "source": [
        "y, X = patsy.dmatrices('renda ~ np.power(tempo_emprego, 2)', df_renda)\n",
        "modelo_renda_log = sm.OLS(y, X).fit()\n",
        "modelo_renda_log.summary()"
      ],
      "metadata": {
        "colab": {
          "base_uri": "https://localhost:8080/",
          "height": 452
        },
        "id": "zyjX3ZzlcutD",
        "outputId": "5ba211f5-2dcc-40b4-d4b0-390623ba2e9c"
      },
      "execution_count": 177,
      "outputs": [
        {
          "output_type": "execute_result",
          "data": {
            "text/plain": [
              "<class 'statsmodels.iolib.summary.Summary'>\n",
              "\"\"\"\n",
              "                            OLS Regression Results                            \n",
              "==============================================================================\n",
              "Dep. Variable:                  renda   R-squared:                       0.166\n",
              "Model:                            OLS   Adj. R-squared:                  0.166\n",
              "Method:                 Least Squares   F-statistic:                     2478.\n",
              "Date:                Sun, 02 Jul 2023   Prob (F-statistic):               0.00\n",
              "Time:                        23:57:28   Log-Likelihood:            -1.2241e+05\n",
              "No. Observations:               12466   AIC:                         2.448e+05\n",
              "Df Residuals:                   12464   BIC:                         2.448e+05\n",
              "Df Model:                           1                                         \n",
              "Covariance Type:            nonrobust                                         \n",
              "==============================================================================================\n",
              "                                 coef    std err          t      P>|t|      [0.025      0.975]\n",
              "----------------------------------------------------------------------------------------------\n",
              "Intercept                   3789.9264     45.197     83.854      0.000    3701.334    3878.519\n",
              "np.power(tempo_emprego, 2)     9.9976      0.201     49.780      0.000       9.604      10.391\n",
              "==============================================================================\n",
              "Omnibus:                     9652.373   Durbin-Watson:                   2.020\n",
              "Prob(Omnibus):                  0.000   Jarque-Bera (JB):           333382.424\n",
              "Skew:                           3.426   Prob(JB):                         0.00\n",
              "Kurtosis:                      27.391   Cond. No.                         255.\n",
              "==============================================================================\n",
              "\n",
              "Notes:\n",
              "[1] Standard Errors assume that the covariance matrix of the errors is correctly specified.\n",
              "\"\"\""
            ],
            "text/html": [
              "<table class=\"simpletable\">\n",
              "<caption>OLS Regression Results</caption>\n",
              "<tr>\n",
              "  <th>Dep. Variable:</th>          <td>renda</td>      <th>  R-squared:         </th>  <td>   0.166</td>  \n",
              "</tr>\n",
              "<tr>\n",
              "  <th>Model:</th>                   <td>OLS</td>       <th>  Adj. R-squared:    </th>  <td>   0.166</td>  \n",
              "</tr>\n",
              "<tr>\n",
              "  <th>Method:</th>             <td>Least Squares</td>  <th>  F-statistic:       </th>  <td>   2478.</td>  \n",
              "</tr>\n",
              "<tr>\n",
              "  <th>Date:</th>             <td>Sun, 02 Jul 2023</td> <th>  Prob (F-statistic):</th>   <td>  0.00</td>   \n",
              "</tr>\n",
              "<tr>\n",
              "  <th>Time:</th>                 <td>23:57:28</td>     <th>  Log-Likelihood:    </th> <td>-1.2241e+05</td>\n",
              "</tr>\n",
              "<tr>\n",
              "  <th>No. Observations:</th>      <td> 12466</td>      <th>  AIC:               </th>  <td>2.448e+05</td> \n",
              "</tr>\n",
              "<tr>\n",
              "  <th>Df Residuals:</th>          <td> 12464</td>      <th>  BIC:               </th>  <td>2.448e+05</td> \n",
              "</tr>\n",
              "<tr>\n",
              "  <th>Df Model:</th>              <td>     1</td>      <th>                     </th>      <td> </td>     \n",
              "</tr>\n",
              "<tr>\n",
              "  <th>Covariance Type:</th>      <td>nonrobust</td>    <th>                     </th>      <td> </td>     \n",
              "</tr>\n",
              "</table>\n",
              "<table class=\"simpletable\">\n",
              "<tr>\n",
              "               <td></td>                 <th>coef</th>     <th>std err</th>      <th>t</th>      <th>P>|t|</th>  <th>[0.025</th>    <th>0.975]</th>  \n",
              "</tr>\n",
              "<tr>\n",
              "  <th>Intercept</th>                  <td> 3789.9264</td> <td>   45.197</td> <td>   83.854</td> <td> 0.000</td> <td> 3701.334</td> <td> 3878.519</td>\n",
              "</tr>\n",
              "<tr>\n",
              "  <th>np.power(tempo_emprego, 2)</th> <td>    9.9976</td> <td>    0.201</td> <td>   49.780</td> <td> 0.000</td> <td>    9.604</td> <td>   10.391</td>\n",
              "</tr>\n",
              "</table>\n",
              "<table class=\"simpletable\">\n",
              "<tr>\n",
              "  <th>Omnibus:</th>       <td>9652.373</td> <th>  Durbin-Watson:     </th>  <td>   2.020</td> \n",
              "</tr>\n",
              "<tr>\n",
              "  <th>Prob(Omnibus):</th>  <td> 0.000</td>  <th>  Jarque-Bera (JB):  </th> <td>333382.424</td>\n",
              "</tr>\n",
              "<tr>\n",
              "  <th>Skew:</th>           <td> 3.426</td>  <th>  Prob(JB):          </th>  <td>    0.00</td> \n",
              "</tr>\n",
              "<tr>\n",
              "  <th>Kurtosis:</th>       <td>27.391</td>  <th>  Cond. No.          </th>  <td>    255.</td> \n",
              "</tr>\n",
              "</table><br/><br/>Notes:<br/>[1] Standard Errors assume that the covariance matrix of the errors is correctly specified."
            ]
          },
          "metadata": {},
          "execution_count": 177
        }
      ]
    },
    {
      "cell_type": "markdown",
      "source": [
        "### 3 - Ajuste um modelo de regressão linear múltipla para explicar renda (ou uma transformação de renda) de acordo com as demais variáveis."
      ],
      "metadata": {
        "id": "LzyGVzgahXZE"
      }
    },
    {
      "cell_type": "code",
      "source": [
        "y, X = patsy.dmatrices('''renda ~ sexo\n",
        "                                +posse_de_veiculo\n",
        "                                +posse_de_imovel\n",
        "                                +qtd_filhos\n",
        "                                +tipo_renda\n",
        "                                +educacao\n",
        "                                +estado_civil\n",
        "                                +tipo_residencia\n",
        "                                +idade\n",
        "                                +tempo_emprego\n",
        "                                +qt_pessoas_residencia\n",
        "                                ''', df_renda)"
      ],
      "metadata": {
        "id": "qlNHTjGthbar"
      },
      "execution_count": 179,
      "outputs": []
    },
    {
      "cell_type": "code",
      "source": [
        "regr_multipla = sm.OLS(y, X).fit()\n",
        "regr_multipla.summary()"
      ],
      "metadata": {
        "colab": {
          "base_uri": "https://localhost:8080/",
          "height": 978
        },
        "id": "gTeFt2UCi_f_",
        "outputId": "479f5d73-15e9-416e-d34a-0c3520517ed6"
      },
      "execution_count": 180,
      "outputs": [
        {
          "output_type": "execute_result",
          "data": {
            "text/plain": [
              "<class 'statsmodels.iolib.summary.Summary'>\n",
              "\"\"\"\n",
              "                            OLS Regression Results                            \n",
              "==============================================================================\n",
              "Dep. Variable:                  renda   R-squared:                       0.221\n",
              "Model:                            OLS   Adj. R-squared:                  0.219\n",
              "Method:                 Least Squares   F-statistic:                     146.9\n",
              "Date:                Sun, 02 Jul 2023   Prob (F-statistic):               0.00\n",
              "Time:                        23:59:04   Log-Likelihood:            -1.2199e+05\n",
              "No. Observations:               12466   AIC:                         2.440e+05\n",
              "Df Residuals:                   12441   BIC:                         2.442e+05\n",
              "Df Model:                          24                                         \n",
              "Covariance Type:            nonrobust                                         \n",
              "====================================================================================================\n",
              "                                       coef    std err          t      P>|t|      [0.025      0.975]\n",
              "----------------------------------------------------------------------------------------------------\n",
              "Intercept                         -271.2003   1674.811     -0.162      0.871   -3554.089    3011.688\n",
              "sexo[T.M]                         2366.1922     88.099     26.858      0.000    2193.505    2538.879\n",
              "posse_de_veiculo[T.True]           -79.1270     84.709     -0.934      0.350    -245.169      86.915\n",
              "posse_de_imovel[T.True]            349.0015     83.426      4.183      0.000     185.473     512.530\n",
              "tipo_renda[T.Bolsista]            -817.4651   2155.323     -0.379      0.704   -5042.231    3407.301\n",
              "tipo_renda[T.Empresário]          1021.9116     90.142     11.337      0.000     845.219    1198.605\n",
              "tipo_renda[T.Pensionista]         1725.6132   1437.300      1.201      0.230   -1091.716    4542.943\n",
              "tipo_renda[T.Servidor público]     436.9668    130.511      3.348      0.001     181.145     692.788\n",
              "educacao[T.Pós graduação]         2207.5583   1081.061      2.042      0.041      88.511    4326.606\n",
              "educacao[T.Secundário]            -241.1964    437.786     -0.551      0.582   -1099.324     616.931\n",
              "educacao[T.Superior completo]      338.2616    439.622      0.769      0.442    -523.465    1199.988\n",
              "educacao[T.Superior incompleto]   -296.2056    470.976     -0.629      0.529   -1219.392     626.981\n",
              "estado_civil[T.Separado]           141.9156    806.277      0.176      0.860   -1438.512    1722.343\n",
              "estado_civil[T.Solteiro]           376.1573    791.461      0.475      0.635   -1175.228    1927.542\n",
              "estado_civil[T.União]              -41.0497    143.754     -0.286      0.775    -322.829     240.730\n",
              "estado_civil[T.Viúvo]              -41.1125    827.976     -0.050      0.960   -1664.073    1581.848\n",
              "tipo_residencia[T.Casa]           -356.2809    328.620     -1.084      0.278   -1000.428     287.866\n",
              "tipo_residencia[T.Com os pais]    -640.8115    368.489     -1.739      0.082   -1363.106      81.483\n",
              "tipo_residencia[T.Comunitário]    -577.7117    634.059     -0.911      0.362   -1820.565     665.142\n",
              "tipo_residencia[T.Estúdio]        -976.1765    547.353     -1.783      0.075   -2049.073      96.720\n",
              "tipo_residencia[T.Governamental]  -883.1863    397.273     -2.223      0.026   -1661.903    -104.470\n",
              "qtd_filhos                        -240.3254    789.406     -0.304      0.761   -1787.683    1307.032\n",
              "idade                               29.8746      4.808      6.213      0.000      20.450      39.299\n",
              "tempo_emprego                      299.3338      6.140     48.750      0.000     287.298     311.369\n",
              "qt_pessoas_residencia              306.2508    787.902      0.389      0.698   -1238.159    1850.661\n",
              "==============================================================================\n",
              "Omnibus:                    10075.335   Durbin-Watson:                   2.016\n",
              "Prob(Omnibus):                  0.000   Jarque-Bera (JB):           432391.441\n",
              "Skew:                           3.579   Prob(JB):                         0.00\n",
              "Kurtosis:                      30.950   Cond. No.                     2.65e+03\n",
              "==============================================================================\n",
              "\n",
              "Notes:\n",
              "[1] Standard Errors assume that the covariance matrix of the errors is correctly specified.\n",
              "[2] The condition number is large, 2.65e+03. This might indicate that there are\n",
              "strong multicollinearity or other numerical problems.\n",
              "\"\"\""
            ],
            "text/html": [
              "<table class=\"simpletable\">\n",
              "<caption>OLS Regression Results</caption>\n",
              "<tr>\n",
              "  <th>Dep. Variable:</th>          <td>renda</td>      <th>  R-squared:         </th>  <td>   0.221</td>  \n",
              "</tr>\n",
              "<tr>\n",
              "  <th>Model:</th>                   <td>OLS</td>       <th>  Adj. R-squared:    </th>  <td>   0.219</td>  \n",
              "</tr>\n",
              "<tr>\n",
              "  <th>Method:</th>             <td>Least Squares</td>  <th>  F-statistic:       </th>  <td>   146.9</td>  \n",
              "</tr>\n",
              "<tr>\n",
              "  <th>Date:</th>             <td>Sun, 02 Jul 2023</td> <th>  Prob (F-statistic):</th>   <td>  0.00</td>   \n",
              "</tr>\n",
              "<tr>\n",
              "  <th>Time:</th>                 <td>23:59:04</td>     <th>  Log-Likelihood:    </th> <td>-1.2199e+05</td>\n",
              "</tr>\n",
              "<tr>\n",
              "  <th>No. Observations:</th>      <td> 12466</td>      <th>  AIC:               </th>  <td>2.440e+05</td> \n",
              "</tr>\n",
              "<tr>\n",
              "  <th>Df Residuals:</th>          <td> 12441</td>      <th>  BIC:               </th>  <td>2.442e+05</td> \n",
              "</tr>\n",
              "<tr>\n",
              "  <th>Df Model:</th>              <td>    24</td>      <th>                     </th>      <td> </td>     \n",
              "</tr>\n",
              "<tr>\n",
              "  <th>Covariance Type:</th>      <td>nonrobust</td>    <th>                     </th>      <td> </td>     \n",
              "</tr>\n",
              "</table>\n",
              "<table class=\"simpletable\">\n",
              "<tr>\n",
              "                  <td></td>                    <th>coef</th>     <th>std err</th>      <th>t</th>      <th>P>|t|</th>  <th>[0.025</th>    <th>0.975]</th>  \n",
              "</tr>\n",
              "<tr>\n",
              "  <th>Intercept</th>                        <td> -271.2003</td> <td> 1674.811</td> <td>   -0.162</td> <td> 0.871</td> <td>-3554.089</td> <td> 3011.688</td>\n",
              "</tr>\n",
              "<tr>\n",
              "  <th>sexo[T.M]</th>                        <td> 2366.1922</td> <td>   88.099</td> <td>   26.858</td> <td> 0.000</td> <td> 2193.505</td> <td> 2538.879</td>\n",
              "</tr>\n",
              "<tr>\n",
              "  <th>posse_de_veiculo[T.True]</th>         <td>  -79.1270</td> <td>   84.709</td> <td>   -0.934</td> <td> 0.350</td> <td> -245.169</td> <td>   86.915</td>\n",
              "</tr>\n",
              "<tr>\n",
              "  <th>posse_de_imovel[T.True]</th>          <td>  349.0015</td> <td>   83.426</td> <td>    4.183</td> <td> 0.000</td> <td>  185.473</td> <td>  512.530</td>\n",
              "</tr>\n",
              "<tr>\n",
              "  <th>tipo_renda[T.Bolsista]</th>           <td> -817.4651</td> <td> 2155.323</td> <td>   -0.379</td> <td> 0.704</td> <td>-5042.231</td> <td> 3407.301</td>\n",
              "</tr>\n",
              "<tr>\n",
              "  <th>tipo_renda[T.Empresário]</th>         <td> 1021.9116</td> <td>   90.142</td> <td>   11.337</td> <td> 0.000</td> <td>  845.219</td> <td> 1198.605</td>\n",
              "</tr>\n",
              "<tr>\n",
              "  <th>tipo_renda[T.Pensionista]</th>        <td> 1725.6132</td> <td> 1437.300</td> <td>    1.201</td> <td> 0.230</td> <td>-1091.716</td> <td> 4542.943</td>\n",
              "</tr>\n",
              "<tr>\n",
              "  <th>tipo_renda[T.Servidor público]</th>   <td>  436.9668</td> <td>  130.511</td> <td>    3.348</td> <td> 0.001</td> <td>  181.145</td> <td>  692.788</td>\n",
              "</tr>\n",
              "<tr>\n",
              "  <th>educacao[T.Pós graduação]</th>        <td> 2207.5583</td> <td> 1081.061</td> <td>    2.042</td> <td> 0.041</td> <td>   88.511</td> <td> 4326.606</td>\n",
              "</tr>\n",
              "<tr>\n",
              "  <th>educacao[T.Secundário]</th>           <td> -241.1964</td> <td>  437.786</td> <td>   -0.551</td> <td> 0.582</td> <td>-1099.324</td> <td>  616.931</td>\n",
              "</tr>\n",
              "<tr>\n",
              "  <th>educacao[T.Superior completo]</th>    <td>  338.2616</td> <td>  439.622</td> <td>    0.769</td> <td> 0.442</td> <td> -523.465</td> <td> 1199.988</td>\n",
              "</tr>\n",
              "<tr>\n",
              "  <th>educacao[T.Superior incompleto]</th>  <td> -296.2056</td> <td>  470.976</td> <td>   -0.629</td> <td> 0.529</td> <td>-1219.392</td> <td>  626.981</td>\n",
              "</tr>\n",
              "<tr>\n",
              "  <th>estado_civil[T.Separado]</th>         <td>  141.9156</td> <td>  806.277</td> <td>    0.176</td> <td> 0.860</td> <td>-1438.512</td> <td> 1722.343</td>\n",
              "</tr>\n",
              "<tr>\n",
              "  <th>estado_civil[T.Solteiro]</th>         <td>  376.1573</td> <td>  791.461</td> <td>    0.475</td> <td> 0.635</td> <td>-1175.228</td> <td> 1927.542</td>\n",
              "</tr>\n",
              "<tr>\n",
              "  <th>estado_civil[T.União]</th>            <td>  -41.0497</td> <td>  143.754</td> <td>   -0.286</td> <td> 0.775</td> <td> -322.829</td> <td>  240.730</td>\n",
              "</tr>\n",
              "<tr>\n",
              "  <th>estado_civil[T.Viúvo]</th>            <td>  -41.1125</td> <td>  827.976</td> <td>   -0.050</td> <td> 0.960</td> <td>-1664.073</td> <td> 1581.848</td>\n",
              "</tr>\n",
              "<tr>\n",
              "  <th>tipo_residencia[T.Casa]</th>          <td> -356.2809</td> <td>  328.620</td> <td>   -1.084</td> <td> 0.278</td> <td>-1000.428</td> <td>  287.866</td>\n",
              "</tr>\n",
              "<tr>\n",
              "  <th>tipo_residencia[T.Com os pais]</th>   <td> -640.8115</td> <td>  368.489</td> <td>   -1.739</td> <td> 0.082</td> <td>-1363.106</td> <td>   81.483</td>\n",
              "</tr>\n",
              "<tr>\n",
              "  <th>tipo_residencia[T.Comunitário]</th>   <td> -577.7117</td> <td>  634.059</td> <td>   -0.911</td> <td> 0.362</td> <td>-1820.565</td> <td>  665.142</td>\n",
              "</tr>\n",
              "<tr>\n",
              "  <th>tipo_residencia[T.Estúdio]</th>       <td> -976.1765</td> <td>  547.353</td> <td>   -1.783</td> <td> 0.075</td> <td>-2049.073</td> <td>   96.720</td>\n",
              "</tr>\n",
              "<tr>\n",
              "  <th>tipo_residencia[T.Governamental]</th> <td> -883.1863</td> <td>  397.273</td> <td>   -2.223</td> <td> 0.026</td> <td>-1661.903</td> <td> -104.470</td>\n",
              "</tr>\n",
              "<tr>\n",
              "  <th>qtd_filhos</th>                       <td> -240.3254</td> <td>  789.406</td> <td>   -0.304</td> <td> 0.761</td> <td>-1787.683</td> <td> 1307.032</td>\n",
              "</tr>\n",
              "<tr>\n",
              "  <th>idade</th>                            <td>   29.8746</td> <td>    4.808</td> <td>    6.213</td> <td> 0.000</td> <td>   20.450</td> <td>   39.299</td>\n",
              "</tr>\n",
              "<tr>\n",
              "  <th>tempo_emprego</th>                    <td>  299.3338</td> <td>    6.140</td> <td>   48.750</td> <td> 0.000</td> <td>  287.298</td> <td>  311.369</td>\n",
              "</tr>\n",
              "<tr>\n",
              "  <th>qt_pessoas_residencia</th>            <td>  306.2508</td> <td>  787.902</td> <td>    0.389</td> <td> 0.698</td> <td>-1238.159</td> <td> 1850.661</td>\n",
              "</tr>\n",
              "</table>\n",
              "<table class=\"simpletable\">\n",
              "<tr>\n",
              "  <th>Omnibus:</th>       <td>10075.335</td> <th>  Durbin-Watson:     </th>  <td>   2.016</td> \n",
              "</tr>\n",
              "<tr>\n",
              "  <th>Prob(Omnibus):</th>  <td> 0.000</td>   <th>  Jarque-Bera (JB):  </th> <td>432391.441</td>\n",
              "</tr>\n",
              "<tr>\n",
              "  <th>Skew:</th>           <td> 3.579</td>   <th>  Prob(JB):          </th>  <td>    0.00</td> \n",
              "</tr>\n",
              "<tr>\n",
              "  <th>Kurtosis:</th>       <td>30.950</td>   <th>  Cond. No.          </th>  <td>2.65e+03</td> \n",
              "</tr>\n",
              "</table><br/><br/>Notes:<br/>[1] Standard Errors assume that the covariance matrix of the errors is correctly specified.<br/>[2] The condition number is large, 2.65e+03. This might indicate that there are<br/>strong multicollinearity or other numerical problems."
            ]
          },
          "metadata": {},
          "execution_count": 180
        }
      ]
    },
    {
      "cell_type": "markdown",
      "source": [
        "### Remova as variáveis não significantes e ajuste novamente o modelo. Interprete os parâmetros"
      ],
      "metadata": {
        "id": "5kg-Rxlvvoxs"
      }
    },
    {
      "cell_type": "code",
      "source": [
        "y, X = patsy.dmatrices('renda ~ sexo + posse_de_imovel + idade + tempo_emprego', df_renda)\n",
        "regr_multipla = sm.OLS(y, X).fit()\n",
        "regr_multipla.summary()"
      ],
      "metadata": {
        "colab": {
          "base_uri": "https://localhost:8080/",
          "height": 516
        },
        "id": "1eecCG2fjcdi",
        "outputId": "ab194de9-1394-40b7-e509-aa62ee96175a"
      },
      "execution_count": 181,
      "outputs": [
        {
          "output_type": "execute_result",
          "data": {
            "text/plain": [
              "<class 'statsmodels.iolib.summary.Summary'>\n",
              "\"\"\"\n",
              "                            OLS Regression Results                            \n",
              "==============================================================================\n",
              "Dep. Variable:                  renda   R-squared:                       0.207\n",
              "Model:                            OLS   Adj. R-squared:                  0.207\n",
              "Method:                 Least Squares   F-statistic:                     813.7\n",
              "Date:                Sun, 02 Jul 2023   Prob (F-statistic):               0.00\n",
              "Time:                        23:59:11   Log-Likelihood:            -1.2210e+05\n",
              "No. Observations:               12466   AIC:                         2.442e+05\n",
              "Df Residuals:                   12461   BIC:                         2.442e+05\n",
              "Df Model:                           4                                         \n",
              "Covariance Type:            nonrobust                                         \n",
              "===========================================================================================\n",
              "                              coef    std err          t      P>|t|      [0.025      0.975]\n",
              "-------------------------------------------------------------------------------------------\n",
              "Intercept                 455.8353    186.029      2.450      0.014      91.190     820.481\n",
              "sexo[T.M]                2299.6921     82.355     27.924      0.000    2138.263    2461.121\n",
              "posse_de_imovel[T.True]   434.8417     81.921      5.308      0.000     274.264     595.420\n",
              "idade                      24.3007      4.427      5.489      0.000      15.623      32.979\n",
              "tempo_emprego             296.2532      6.097     48.586      0.000     284.301     308.205\n",
              "==============================================================================\n",
              "Omnibus:                    10139.758   Durbin-Watson:                   2.012\n",
              "Prob(Omnibus):                  0.000   Jarque-Bera (JB):           439131.435\n",
              "Skew:                           3.612   Prob(JB):                         0.00\n",
              "Kurtosis:                      31.165   Cond. No.                         207.\n",
              "==============================================================================\n",
              "\n",
              "Notes:\n",
              "[1] Standard Errors assume that the covariance matrix of the errors is correctly specified.\n",
              "\"\"\""
            ],
            "text/html": [
              "<table class=\"simpletable\">\n",
              "<caption>OLS Regression Results</caption>\n",
              "<tr>\n",
              "  <th>Dep. Variable:</th>          <td>renda</td>      <th>  R-squared:         </th>  <td>   0.207</td>  \n",
              "</tr>\n",
              "<tr>\n",
              "  <th>Model:</th>                   <td>OLS</td>       <th>  Adj. R-squared:    </th>  <td>   0.207</td>  \n",
              "</tr>\n",
              "<tr>\n",
              "  <th>Method:</th>             <td>Least Squares</td>  <th>  F-statistic:       </th>  <td>   813.7</td>  \n",
              "</tr>\n",
              "<tr>\n",
              "  <th>Date:</th>             <td>Sun, 02 Jul 2023</td> <th>  Prob (F-statistic):</th>   <td>  0.00</td>   \n",
              "</tr>\n",
              "<tr>\n",
              "  <th>Time:</th>                 <td>23:59:11</td>     <th>  Log-Likelihood:    </th> <td>-1.2210e+05</td>\n",
              "</tr>\n",
              "<tr>\n",
              "  <th>No. Observations:</th>      <td> 12466</td>      <th>  AIC:               </th>  <td>2.442e+05</td> \n",
              "</tr>\n",
              "<tr>\n",
              "  <th>Df Residuals:</th>          <td> 12461</td>      <th>  BIC:               </th>  <td>2.442e+05</td> \n",
              "</tr>\n",
              "<tr>\n",
              "  <th>Df Model:</th>              <td>     4</td>      <th>                     </th>      <td> </td>     \n",
              "</tr>\n",
              "<tr>\n",
              "  <th>Covariance Type:</th>      <td>nonrobust</td>    <th>                     </th>      <td> </td>     \n",
              "</tr>\n",
              "</table>\n",
              "<table class=\"simpletable\">\n",
              "<tr>\n",
              "             <td></td>                <th>coef</th>     <th>std err</th>      <th>t</th>      <th>P>|t|</th>  <th>[0.025</th>    <th>0.975]</th>  \n",
              "</tr>\n",
              "<tr>\n",
              "  <th>Intercept</th>               <td>  455.8353</td> <td>  186.029</td> <td>    2.450</td> <td> 0.014</td> <td>   91.190</td> <td>  820.481</td>\n",
              "</tr>\n",
              "<tr>\n",
              "  <th>sexo[T.M]</th>               <td> 2299.6921</td> <td>   82.355</td> <td>   27.924</td> <td> 0.000</td> <td> 2138.263</td> <td> 2461.121</td>\n",
              "</tr>\n",
              "<tr>\n",
              "  <th>posse_de_imovel[T.True]</th> <td>  434.8417</td> <td>   81.921</td> <td>    5.308</td> <td> 0.000</td> <td>  274.264</td> <td>  595.420</td>\n",
              "</tr>\n",
              "<tr>\n",
              "  <th>idade</th>                   <td>   24.3007</td> <td>    4.427</td> <td>    5.489</td> <td> 0.000</td> <td>   15.623</td> <td>   32.979</td>\n",
              "</tr>\n",
              "<tr>\n",
              "  <th>tempo_emprego</th>           <td>  296.2532</td> <td>    6.097</td> <td>   48.586</td> <td> 0.000</td> <td>  284.301</td> <td>  308.205</td>\n",
              "</tr>\n",
              "</table>\n",
              "<table class=\"simpletable\">\n",
              "<tr>\n",
              "  <th>Omnibus:</th>       <td>10139.758</td> <th>  Durbin-Watson:     </th>  <td>   2.012</td> \n",
              "</tr>\n",
              "<tr>\n",
              "  <th>Prob(Omnibus):</th>  <td> 0.000</td>   <th>  Jarque-Bera (JB):  </th> <td>439131.435</td>\n",
              "</tr>\n",
              "<tr>\n",
              "  <th>Skew:</th>           <td> 3.612</td>   <th>  Prob(JB):          </th>  <td>    0.00</td> \n",
              "</tr>\n",
              "<tr>\n",
              "  <th>Kurtosis:</th>       <td>31.165</td>   <th>  Cond. No.          </th>  <td>    207.</td> \n",
              "</tr>\n",
              "</table><br/><br/>Notes:<br/>[1] Standard Errors assume that the covariance matrix of the errors is correctly specified."
            ]
          },
          "metadata": {},
          "execution_count": 181
        }
      ]
    },
    {
      "cell_type": "markdown",
      "source": [
        "### 5 - Faça uma análise de resíduos. Avalie a qualidade do ajuste."
      ],
      "metadata": {
        "id": "sM3xfebl0oXX"
      }
    },
    {
      "cell_type": "code",
      "source": [
        "df_renda['res_log'] = regr_multipla.resid"
      ],
      "metadata": {
        "id": "sf04Ik2K0rSH"
      },
      "execution_count": 182,
      "outputs": []
    },
    {
      "cell_type": "code",
      "source": [
        "\n",
        "plt.figure(figsize=(15,7))\n",
        "sns.scatterplot(x='tempo_emprego', y='res_log', data=df_renda)\n",
        "\n",
        "plt.axhline(y=0, color='r', linestyle='--')\n",
        "\n",
        "plt.xticks(ticks=np.arange(stop=df_renda['tempo_emprego'].max(), step=1));"
      ],
      "metadata": {
        "colab": {
          "base_uri": "https://localhost:8080/",
          "height": 619
        },
        "id": "Hpkn7EkBDdCv",
        "outputId": "8fe3a770-51bf-4326-9f44-6c1b69d40b4d"
      },
      "execution_count": 213,
      "outputs": [
        {
          "output_type": "display_data",
          "data": {
            "text/plain": [
              "<Figure size 1500x700 with 1 Axes>"
            ],
            "image/png": "[encoded data removed]"
          },
          "metadata": {}
        }
      ]
    },
    {
      "cell_type": "markdown",
      "source": [
        "### O ajuste deve ser melhorado, apesar dos ajustes no modelo ainda há muito resíduo e alguns outliers que podem estar influenciando no modelo"
      ],
      "metadata": {
        "id": "yFgLoQ-SJQOZ"
      }
    }
  ],
  "metadata": {
    "kernelspec": {
      "display_name": "Python 3",
      "language": "python",
      "name": "python3"
    },
    "language_info": {
      "codemirror_mode": {
        "name": "ipython",
        "version": 3
      },
      "file_extension": ".py",
      "mimetype": "text/x-python",
      "name": "python",
      "nbconvert_exporter": "python",
      "pygments_lexer": "ipython3",
      "version": "3.8.5"
    },
    "colab": {
      "provenance": []
    }
  },
  "nbformat": 4,
  "nbformat_minor": 0
}