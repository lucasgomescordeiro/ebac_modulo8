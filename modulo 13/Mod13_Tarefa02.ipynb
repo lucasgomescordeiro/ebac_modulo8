{
  "cells": [
    {
      "cell_type": "markdown",
      "metadata": {
        "id": "xsbh6hoNH6Yi"
      },
      "source": [
        "# EBAC - Regressão II - regressão múltipla\n",
        "\n",
        "## Tarefa I"
      ]
    },
    {
      "cell_type": "markdown",
      "metadata": {
        "id": "VDXmAEDFH6ZC"
      },
      "source": [
        "#### Previsão de renda II\n",
        "\n",
        "Vamos continuar trabalhando com a base 'previsao_de_renda.csv', que é a base do seu próximo projeto. Vamos usar os recursos que vimos até aqui nesta base.\n",
        "\n",
        "|variavel|descrição|\n",
        "|-|-|\n",
        "|data_ref                | Data de referência de coleta das variáveis |\n",
        "|index                   | Código de identificação do cliente|\n",
        "|sexo                    | Sexo do cliente|\n",
        "|posse_de_veiculo        | Indica se o cliente possui veículo|\n",
        "|posse_de_imovel         | Indica se o cliente possui imóvel|\n",
        "|qtd_filhos              | Quantidade de filhos do cliente|\n",
        "|tipo_renda              | Tipo de renda do cliente|\n",
        "|educacao                | Grau de instrução do cliente|\n",
        "|estado_civil            | Estado civil do cliente|\n",
        "|tipo_residencia         | Tipo de residência do cliente (própria, alugada etc)|\n",
        "|idade                   | Idade do cliente|\n",
        "|tempo_emprego           | Tempo no emprego atual|\n",
        "|qt_pessoas_residencia   | Quantidade de pessoas que moram na residência|\n",
        "|renda                   | Renda em reais|"
      ]
    },
    {
      "cell_type": "code",
      "execution_count": 32,
      "metadata": {
        "id": "1cLLONFIH6ZG"
      },
      "outputs": [],
      "source": [
        "import pandas as pd\n",
        "import numpy as np\n",
        "from sklearn.model_selection import train_test_split\n",
        "from sklearn.metrics import r2_score\n",
        "import patsy"
      ]
    },
    {
      "cell_type": "code",
      "execution_count": 53,
      "metadata": {
        "id": "Dn3merXzH6Zp"
      },
      "outputs": [],
      "source": [
        "df = pd.read_csv('previsao_de_renda.csv')"
      ]
    },
    {
      "cell_type": "code",
      "execution_count": 54,
      "metadata": {
        "colab": {
          "base_uri": "https://localhost:8080/"
        },
        "id": "O6YKTsnJH6Zq",
        "outputId": "368ebb18-fae3-40c6-c477-21db5537a6d0"
      },
      "outputs": [
        {
          "output_type": "stream",
          "name": "stdout",
          "text": [
            "<class 'pandas.core.frame.DataFrame'>\n",
            "RangeIndex: 15000 entries, 0 to 14999\n",
            "Data columns (total 15 columns):\n",
            " #   Column                 Non-Null Count  Dtype  \n",
            "---  ------                 --------------  -----  \n",
            " 0   Unnamed: 0             15000 non-null  int64  \n",
            " 1   data_ref               15000 non-null  object \n",
            " 2   id_cliente             15000 non-null  int64  \n",
            " 3   sexo                   15000 non-null  object \n",
            " 4   posse_de_veiculo       15000 non-null  bool   \n",
            " 5   posse_de_imovel        15000 non-null  bool   \n",
            " 6   qtd_filhos             15000 non-null  int64  \n",
            " 7   tipo_renda             15000 non-null  object \n",
            " 8   educacao               15000 non-null  object \n",
            " 9   estado_civil           15000 non-null  object \n",
            " 10  tipo_residencia        15000 non-null  object \n",
            " 11  idade                  15000 non-null  int64  \n",
            " 12  tempo_emprego          12427 non-null  float64\n",
            " 13  qt_pessoas_residencia  15000 non-null  float64\n",
            " 14  renda                  15000 non-null  float64\n",
            "dtypes: bool(2), float64(3), int64(4), object(6)\n",
            "memory usage: 1.5+ MB\n"
          ]
        }
      ],
      "source": [
        "df.info()"
      ]
    },
    {
      "cell_type": "markdown",
      "metadata": {
        "id": "ciuXhwUQH6aI"
      },
      "source": [
        "1. Separe a base em treinamento e teste (25% para teste, 75% para treinamento).\n",
        "2. Rode uma regularização *ridge* com alpha = [0, 0.001, 0.005, 0.01, 0.05, 0.1] e avalie o $R^2$ na base de testes. Qual o melhor modelo?\n",
        "3. Faça o mesmo que no passo 2, com uma regressão *LASSO*. Qual método chega a um melhor resultado?\n",
        "4. Rode um modelo *stepwise*. Avalie o $R^2$ na vase de testes. Qual o melhor resultado?\n",
        "5. Compare os parâmetros e avalie eventuais diferenças. Qual modelo você acha o melhor de todos?\n",
        "6. Partindo dos modelos que você ajustou, tente melhorar o $R^2$ na base de testes. Use a criatividade, veja se consegue inserir alguma transformação ou combinação de variáveis.\n",
        "7. Ajuste uma árvore de regressão e veja se consegue um $R^2$ melhor com ela."
      ]
    },
    {
      "cell_type": "markdown",
      "source": [
        "### 1 - Separe a base em treinamento e teste (25% para teste, 75% para treinamento)."
      ],
      "metadata": {
        "id": "LNAjbv7cycQ4"
      }
    },
    {
      "cell_type": "code",
      "source": [
        "df.sample(1)"
      ],
      "metadata": {
        "colab": {
          "base_uri": "https://localhost:8080/",
          "height": 81
        },
        "id": "BUVj-Xfg3Omf",
        "outputId": "76e0bfbc-91db-4bf5-ecd4-597080018097"
      },
      "execution_count": 100,
      "outputs": [
        {
          "output_type": "execute_result",
          "data": {
            "text/plain": [
              "      sexo  posse_de_veiculo  posse_de_imovel  qtd_filhos   tipo_renda  \\\n",
              "10661    F             False             True           0  Pensionista   \n",
              "\n",
              "                educacao estado_civil tipo_residencia  idade  tempo_emprego  \\\n",
              "10661  Superior completo     Solteiro            Casa     59       7.722635   \n",
              "\n",
              "       qt_pessoas_residencia    renda  \n",
              "10661                    1.0  2777.15  "
            ],
            "text/html": [
              "\n",
              "\n",
              "  <div id=\"df-6eac4ea6-e791-430e-8aea-707fb840fce5\">\n",
              "    <div class=\"colab-df-container\">\n",
              "      <div>\n",
              "<style scoped>\n",
              "    .dataframe tbody tr th:only-of-type {\n",
              "        vertical-align: middle;\n",
              "    }\n",
              "\n",
              "    .dataframe tbody tr th {\n",
              "        vertical-align: top;\n",
              "    }\n",
              "\n",
              "    .dataframe thead th {\n",
              "        text-align: right;\n",
              "    }\n",
              "</style>\n",
              "<table border=\"1\" class=\"dataframe\">\n",
              "  <thead>\n",
              "    <tr style=\"text-align: right;\">\n",
              "      <th></th>\n",
              "      <th>sexo</th>\n",
              "      <th>posse_de_veiculo</th>\n",
              "      <th>posse_de_imovel</th>\n",
              "      <th>qtd_filhos</th>\n",
              "      <th>tipo_renda</th>\n",
              "      <th>educacao</th>\n",
              "      <th>estado_civil</th>\n",
              "      <th>tipo_residencia</th>\n",
              "      <th>idade</th>\n",
              "      <th>tempo_emprego</th>\n",
              "      <th>qt_pessoas_residencia</th>\n",
              "      <th>renda</th>\n",
              "    </tr>\n",
              "  </thead>\n",
              "  <tbody>\n",
              "    <tr>\n",
              "      <th>10661</th>\n",
              "      <td>F</td>\n",
              "      <td>False</td>\n",
              "      <td>True</td>\n",
              "      <td>0</td>\n",
              "      <td>Pensionista</td>\n",
              "      <td>Superior completo</td>\n",
              "      <td>Solteiro</td>\n",
              "      <td>Casa</td>\n",
              "      <td>59</td>\n",
              "      <td>7.722635</td>\n",
              "      <td>1.0</td>\n",
              "      <td>2777.15</td>\n",
              "    </tr>\n",
              "  </tbody>\n",
              "</table>\n",
              "</div>\n",
              "      <button class=\"colab-df-convert\" onclick=\"convertToInteractive('df-6eac4ea6-e791-430e-8aea-707fb840fce5')\"\n",
              "              title=\"Convert this dataframe to an interactive table.\"\n",
              "              style=\"display:none;\">\n",
              "\n",
              "  <svg xmlns=\"http://www.w3.org/2000/svg\" height=\"24px\"viewBox=\"0 0 24 24\"\n",
              "       width=\"24px\">\n",
              "    <path d=\"M0 0h24v24H0V0z\" fill=\"none\"/>\n",
              "    <path d=\"M18.56 5.44l.94 2.06.94-2.06 2.06-.94-2.06-.94-.94-2.06-.94 2.06-2.06.94zm-11 1L8.5 8.5l.94-2.06 2.06-.94-2.06-.94L8.5 2.5l-.94 2.06-2.06.94zm10 10l.94 2.06.94-2.06 2.06-.94-2.06-.94-.94-2.06-.94 2.06-2.06.94z\"/><path d=\"M17.41 7.96l-1.37-1.37c-.4-.4-.92-.59-1.43-.59-.52 0-1.04.2-1.43.59L10.3 9.45l-7.72 7.72c-.78.78-.78 2.05 0 2.83L4 21.41c.39.39.9.59 1.41.59.51 0 1.02-.2 1.41-.59l7.78-7.78 2.81-2.81c.8-.78.8-2.07 0-2.86zM5.41 20L4 18.59l7.72-7.72 1.47 1.35L5.41 20z\"/>\n",
              "  </svg>\n",
              "      </button>\n",
              "\n",
              "\n",
              "\n",
              "    <div id=\"df-6027c40c-28d4-4307-9717-c41fed3607f1\">\n",
              "      <button class=\"colab-df-quickchart\" onclick=\"quickchart('df-6027c40c-28d4-4307-9717-c41fed3607f1')\"\n",
              "              title=\"Suggest charts.\"\n",
              "              style=\"display:none;\">\n",
              "\n",
              "<svg xmlns=\"http://www.w3.org/2000/svg\" height=\"24px\"viewBox=\"0 0 24 24\"\n",
              "     width=\"24px\">\n",
              "    <g>\n",
              "        <path d=\"M19 3H5c-1.1 0-2 .9-2 2v14c0 1.1.9 2 2 2h14c1.1 0 2-.9 2-2V5c0-1.1-.9-2-2-2zM9 17H7v-7h2v7zm4 0h-2V7h2v10zm4 0h-2v-4h2v4z\"/>\n",
              "    </g>\n",
              "</svg>\n",
              "      </button>\n",
              "    </div>\n",
              "\n",
              "<style>\n",
              "  .colab-df-quickchart {\n",
              "    background-color: #E8F0FE;\n",
              "    border: none;\n",
              "    border-radius: 50%;\n",
              "    cursor: pointer;\n",
              "    display: none;\n",
              "    fill: #1967D2;\n",
              "    height: 32px;\n",
              "    padding: 0 0 0 0;\n",
              "    width: 32px;\n",
              "  }\n",
              "\n",
              "  .colab-df-quickchart:hover {\n",
              "    background-color: #E2EBFA;\n",
              "    box-shadow: 0px 1px 2px rgba(60, 64, 67, 0.3), 0px 1px 3px 1px rgba(60, 64, 67, 0.15);\n",
              "    fill: #174EA6;\n",
              "  }\n",
              "\n",
              "  [theme=dark] .colab-df-quickchart {\n",
              "    background-color: #3B4455;\n",
              "    fill: #D2E3FC;\n",
              "  }\n",
              "\n",
              "  [theme=dark] .colab-df-quickchart:hover {\n",
              "    background-color: #434B5C;\n",
              "    box-shadow: 0px 1px 3px 1px rgba(0, 0, 0, 0.15);\n",
              "    filter: drop-shadow(0px 1px 2px rgba(0, 0, 0, 0.3));\n",
              "    fill: #FFFFFF;\n",
              "  }\n",
              "</style>\n",
              "\n",
              "    <script>\n",
              "      async function quickchart(key) {\n",
              "        const containerElement = document.querySelector('#' + key);\n",
              "        const charts = await google.colab.kernel.invokeFunction(\n",
              "            'suggestCharts', [key], {});\n",
              "      }\n",
              "    </script>\n",
              "\n",
              "      <script>\n",
              "\n",
              "function displayQuickchartButton(domScope) {\n",
              "  let quickchartButtonEl =\n",
              "    domScope.querySelector('#df-6027c40c-28d4-4307-9717-c41fed3607f1 button.colab-df-quickchart');\n",
              "  quickchartButtonEl.style.display =\n",
              "    google.colab.kernel.accessAllowed ? 'block' : 'none';\n",
              "}\n",
              "\n",
              "        displayQuickchartButton(document);\n",
              "      </script>\n",
              "      <style>\n",
              "    .colab-df-container {\n",
              "      display:flex;\n",
              "      flex-wrap:wrap;\n",
              "      gap: 12px;\n",
              "    }\n",
              "\n",
              "    .colab-df-convert {\n",
              "      background-color: #E8F0FE;\n",
              "      border: none;\n",
              "      border-radius: 50%;\n",
              "      cursor: pointer;\n",
              "      display: none;\n",
              "      fill: #1967D2;\n",
              "      height: 32px;\n",
              "      padding: 0 0 0 0;\n",
              "      width: 32px;\n",
              "    }\n",
              "\n",
              "    .colab-df-convert:hover {\n",
              "      background-color: #E2EBFA;\n",
              "      box-shadow: 0px 1px 2px rgba(60, 64, 67, 0.3), 0px 1px 3px 1px rgba(60, 64, 67, 0.15);\n",
              "      fill: #174EA6;\n",
              "    }\n",
              "\n",
              "    [theme=dark] .colab-df-convert {\n",
              "      background-color: #3B4455;\n",
              "      fill: #D2E3FC;\n",
              "    }\n",
              "\n",
              "    [theme=dark] .colab-df-convert:hover {\n",
              "      background-color: #434B5C;\n",
              "      box-shadow: 0px 1px 3px 1px rgba(0, 0, 0, 0.15);\n",
              "      filter: drop-shadow(0px 1px 2px rgba(0, 0, 0, 0.3));\n",
              "      fill: #FFFFFF;\n",
              "    }\n",
              "  </style>\n",
              "\n",
              "      <script>\n",
              "        const buttonEl =\n",
              "          document.querySelector('#df-6eac4ea6-e791-430e-8aea-707fb840fce5 button.colab-df-convert');\n",
              "        buttonEl.style.display =\n",
              "          google.colab.kernel.accessAllowed ? 'block' : 'none';\n",
              "\n",
              "        async function convertToInteractive(key) {\n",
              "          const element = document.querySelector('#df-6eac4ea6-e791-430e-8aea-707fb840fce5');\n",
              "          const dataTable =\n",
              "            await google.colab.kernel.invokeFunction('convertToInteractive',\n",
              "                                                     [key], {});\n",
              "          if (!dataTable) return;\n",
              "\n",
              "          const docLinkHtml = 'Like what you see? Visit the ' +\n",
              "            '<a target=\"_blank\" href=https://colab.research.google.com/notebooks/data_table.ipynb>data table notebook</a>'\n",
              "            + ' to learn more about interactive tables.';\n",
              "          element.innerHTML = '';\n",
              "          dataTable['output_type'] = 'display_data';\n",
              "          await google.colab.output.renderOutput(dataTable, element);\n",
              "          const docLink = document.createElement('div');\n",
              "          docLink.innerHTML = docLinkHtml;\n",
              "          element.appendChild(docLink);\n",
              "        }\n",
              "      </script>\n",
              "    </div>\n",
              "  </div>\n"
            ]
          },
          "metadata": {},
          "execution_count": 100
        }
      ]
    },
    {
      "cell_type": "code",
      "source": [
        "df.isnull().value_counts()"
      ],
      "metadata": {
        "colab": {
          "base_uri": "https://localhost:8080/"
        },
        "id": "hc1-EW2H3UI4",
        "outputId": "1c7ff7c2-d110-4809-b7f9-47620dace0c8"
      },
      "execution_count": 56,
      "outputs": [
        {
          "output_type": "execute_result",
          "data": {
            "text/plain": [
              "Unnamed: 0  data_ref  id_cliente  sexo   posse_de_veiculo  posse_de_imovel  qtd_filhos  tipo_renda  educacao  estado_civil  tipo_residencia  idade  tempo_emprego  qt_pessoas_residencia  renda\n",
              "False       False     False       False  False             False            False       False       False     False         False            False  False          False                  False    12427\n",
              "                                                                                                                                                    True           False                  False     2573\n",
              "dtype: int64"
            ]
          },
          "metadata": {},
          "execution_count": 56
        }
      ]
    },
    {
      "cell_type": "code",
      "source": [
        "#definindo os dados faltantes com a media do dataframe\n",
        "df['tempo_emprego'].fillna(df['tempo_emprego'].mean(), inplace=True);"
      ],
      "metadata": {
        "id": "1db2lNQC4Lns"
      },
      "execution_count": 57,
      "outputs": []
    },
    {
      "cell_type": "code",
      "source": [
        "df.isnull().value_counts()"
      ],
      "metadata": {
        "colab": {
          "base_uri": "https://localhost:8080/"
        },
        "id": "8HpMf8Xu47o1",
        "outputId": "9134c9a0-76a2-4162-8057-4603d6101ab0"
      },
      "execution_count": 58,
      "outputs": [
        {
          "output_type": "execute_result",
          "data": {
            "text/plain": [
              "Unnamed: 0  data_ref  id_cliente  sexo   posse_de_veiculo  posse_de_imovel  qtd_filhos  tipo_renda  educacao  estado_civil  tipo_residencia  idade  tempo_emprego  qt_pessoas_residencia  renda\n",
              "False       False     False       False  False             False            False       False       False     False         False            False  False          False                  False    15000\n",
              "dtype: int64"
            ]
          },
          "metadata": {},
          "execution_count": 58
        }
      ]
    },
    {
      "cell_type": "code",
      "source": [
        "#remove as tres primeiras colunas 'Unnamed' 'data_ref' e 'id_cliente'\n",
        "df = df.iloc[:, 3:]"
      ],
      "metadata": {
        "id": "aPaxbHDqzukY"
      },
      "execution_count": 59,
      "outputs": []
    },
    {
      "cell_type": "code",
      "source": [
        "df.head(1)"
      ],
      "metadata": {
        "colab": {
          "base_uri": "https://localhost:8080/",
          "height": 81
        },
        "id": "qDxS7la20mv1",
        "outputId": "01881af5-ca88-4cce-9d2f-8f3515096dc1"
      },
      "execution_count": 60,
      "outputs": [
        {
          "output_type": "execute_result",
          "data": {
            "text/plain": [
              "  sexo  posse_de_veiculo  posse_de_imovel  qtd_filhos  tipo_renda    educacao  \\\n",
              "0    F             False             True           0  Empresário  Secundário   \n",
              "\n",
              "  estado_civil tipo_residencia  idade  tempo_emprego  qt_pessoas_residencia  \\\n",
              "0     Solteiro            Casa     26        6.60274                    1.0   \n",
              "\n",
              "     renda  \n",
              "0  8060.34  "
            ],
            "text/html": [
              "\n",
              "\n",
              "  <div id=\"df-fb2005d1-95de-43af-930c-0dd08bcaa31c\">\n",
              "    <div class=\"colab-df-container\">\n",
              "      <div>\n",
              "<style scoped>\n",
              "    .dataframe tbody tr th:only-of-type {\n",
              "        vertical-align: middle;\n",
              "    }\n",
              "\n",
              "    .dataframe tbody tr th {\n",
              "        vertical-align: top;\n",
              "    }\n",
              "\n",
              "    .dataframe thead th {\n",
              "        text-align: right;\n",
              "    }\n",
              "</style>\n",
              "<table border=\"1\" class=\"dataframe\">\n",
              "  <thead>\n",
              "    <tr style=\"text-align: right;\">\n",
              "      <th></th>\n",
              "      <th>sexo</th>\n",
              "      <th>posse_de_veiculo</th>\n",
              "      <th>posse_de_imovel</th>\n",
              "      <th>qtd_filhos</th>\n",
              "      <th>tipo_renda</th>\n",
              "      <th>educacao</th>\n",
              "      <th>estado_civil</th>\n",
              "      <th>tipo_residencia</th>\n",
              "      <th>idade</th>\n",
              "      <th>tempo_emprego</th>\n",
              "      <th>qt_pessoas_residencia</th>\n",
              "      <th>renda</th>\n",
              "    </tr>\n",
              "  </thead>\n",
              "  <tbody>\n",
              "    <tr>\n",
              "      <th>0</th>\n",
              "      <td>F</td>\n",
              "      <td>False</td>\n",
              "      <td>True</td>\n",
              "      <td>0</td>\n",
              "      <td>Empresário</td>\n",
              "      <td>Secundário</td>\n",
              "      <td>Solteiro</td>\n",
              "      <td>Casa</td>\n",
              "      <td>26</td>\n",
              "      <td>6.60274</td>\n",
              "      <td>1.0</td>\n",
              "      <td>8060.34</td>\n",
              "    </tr>\n",
              "  </tbody>\n",
              "</table>\n",
              "</div>\n",
              "      <button class=\"colab-df-convert\" onclick=\"convertToInteractive('df-fb2005d1-95de-43af-930c-0dd08bcaa31c')\"\n",
              "              title=\"Convert this dataframe to an interactive table.\"\n",
              "              style=\"display:none;\">\n",
              "\n",
              "  <svg xmlns=\"http://www.w3.org/2000/svg\" height=\"24px\"viewBox=\"0 0 24 24\"\n",
              "       width=\"24px\">\n",
              "    <path d=\"M0 0h24v24H0V0z\" fill=\"none\"/>\n",
              "    <path d=\"M18.56 5.44l.94 2.06.94-2.06 2.06-.94-2.06-.94-.94-2.06-.94 2.06-2.06.94zm-11 1L8.5 8.5l.94-2.06 2.06-.94-2.06-.94L8.5 2.5l-.94 2.06-2.06.94zm10 10l.94 2.06.94-2.06 2.06-.94-2.06-.94-.94-2.06-.94 2.06-2.06.94z\"/><path d=\"M17.41 7.96l-1.37-1.37c-.4-.4-.92-.59-1.43-.59-.52 0-1.04.2-1.43.59L10.3 9.45l-7.72 7.72c-.78.78-.78 2.05 0 2.83L4 21.41c.39.39.9.59 1.41.59.51 0 1.02-.2 1.41-.59l7.78-7.78 2.81-2.81c.8-.78.8-2.07 0-2.86zM5.41 20L4 18.59l7.72-7.72 1.47 1.35L5.41 20z\"/>\n",
              "  </svg>\n",
              "      </button>\n",
              "\n",
              "\n",
              "\n",
              "    <div id=\"df-fa93284a-607b-4207-b804-fb926c0b467f\">\n",
              "      <button class=\"colab-df-quickchart\" onclick=\"quickchart('df-fa93284a-607b-4207-b804-fb926c0b467f')\"\n",
              "              title=\"Suggest charts.\"\n",
              "              style=\"display:none;\">\n",
              "\n",
              "<svg xmlns=\"http://www.w3.org/2000/svg\" height=\"24px\"viewBox=\"0 0 24 24\"\n",
              "     width=\"24px\">\n",
              "    <g>\n",
              "        <path d=\"M19 3H5c-1.1 0-2 .9-2 2v14c0 1.1.9 2 2 2h14c1.1 0 2-.9 2-2V5c0-1.1-.9-2-2-2zM9 17H7v-7h2v7zm4 0h-2V7h2v10zm4 0h-2v-4h2v4z\"/>\n",
              "    </g>\n",
              "</svg>\n",
              "      </button>\n",
              "    </div>\n",
              "\n",
              "<style>\n",
              "  .colab-df-quickchart {\n",
              "    background-color: #E8F0FE;\n",
              "    border: none;\n",
              "    border-radius: 50%;\n",
              "    cursor: pointer;\n",
              "    display: none;\n",
              "    fill: #1967D2;\n",
              "    height: 32px;\n",
              "    padding: 0 0 0 0;\n",
              "    width: 32px;\n",
              "  }\n",
              "\n",
              "  .colab-df-quickchart:hover {\n",
              "    background-color: #E2EBFA;\n",
              "    box-shadow: 0px 1px 2px rgba(60, 64, 67, 0.3), 0px 1px 3px 1px rgba(60, 64, 67, 0.15);\n",
              "    fill: #174EA6;\n",
              "  }\n",
              "\n",
              "  [theme=dark] .colab-df-quickchart {\n",
              "    background-color: #3B4455;\n",
              "    fill: #D2E3FC;\n",
              "  }\n",
              "\n",
              "  [theme=dark] .colab-df-quickchart:hover {\n",
              "    background-color: #434B5C;\n",
              "    box-shadow: 0px 1px 3px 1px rgba(0, 0, 0, 0.15);\n",
              "    filter: drop-shadow(0px 1px 2px rgba(0, 0, 0, 0.3));\n",
              "    fill: #FFFFFF;\n",
              "  }\n",
              "</style>\n",
              "\n",
              "    <script>\n",
              "      async function quickchart(key) {\n",
              "        const containerElement = document.querySelector('#' + key);\n",
              "        const charts = await google.colab.kernel.invokeFunction(\n",
              "            'suggestCharts', [key], {});\n",
              "      }\n",
              "    </script>\n",
              "\n",
              "      <script>\n",
              "\n",
              "function displayQuickchartButton(domScope) {\n",
              "  let quickchartButtonEl =\n",
              "    domScope.querySelector('#df-fa93284a-607b-4207-b804-fb926c0b467f button.colab-df-quickchart');\n",
              "  quickchartButtonEl.style.display =\n",
              "    google.colab.kernel.accessAllowed ? 'block' : 'none';\n",
              "}\n",
              "\n",
              "        displayQuickchartButton(document);\n",
              "      </script>\n",
              "      <style>\n",
              "    .colab-df-container {\n",
              "      display:flex;\n",
              "      flex-wrap:wrap;\n",
              "      gap: 12px;\n",
              "    }\n",
              "\n",
              "    .colab-df-convert {\n",
              "      background-color: #E8F0FE;\n",
              "      border: none;\n",
              "      border-radius: 50%;\n",
              "      cursor: pointer;\n",
              "      display: none;\n",
              "      fill: #1967D2;\n",
              "      height: 32px;\n",
              "      padding: 0 0 0 0;\n",
              "      width: 32px;\n",
              "    }\n",
              "\n",
              "    .colab-df-convert:hover {\n",
              "      background-color: #E2EBFA;\n",
              "      box-shadow: 0px 1px 2px rgba(60, 64, 67, 0.3), 0px 1px 3px 1px rgba(60, 64, 67, 0.15);\n",
              "      fill: #174EA6;\n",
              "    }\n",
              "\n",
              "    [theme=dark] .colab-df-convert {\n",
              "      background-color: #3B4455;\n",
              "      fill: #D2E3FC;\n",
              "    }\n",
              "\n",
              "    [theme=dark] .colab-df-convert:hover {\n",
              "      background-color: #434B5C;\n",
              "      box-shadow: 0px 1px 3px 1px rgba(0, 0, 0, 0.15);\n",
              "      filter: drop-shadow(0px 1px 2px rgba(0, 0, 0, 0.3));\n",
              "      fill: #FFFFFF;\n",
              "    }\n",
              "  </style>\n",
              "\n",
              "      <script>\n",
              "        const buttonEl =\n",
              "          document.querySelector('#df-fb2005d1-95de-43af-930c-0dd08bcaa31c button.colab-df-convert');\n",
              "        buttonEl.style.display =\n",
              "          google.colab.kernel.accessAllowed ? 'block' : 'none';\n",
              "\n",
              "        async function convertToInteractive(key) {\n",
              "          const element = document.querySelector('#df-fb2005d1-95de-43af-930c-0dd08bcaa31c');\n",
              "          const dataTable =\n",
              "            await google.colab.kernel.invokeFunction('convertToInteractive',\n",
              "                                                     [key], {});\n",
              "          if (!dataTable) return;\n",
              "\n",
              "          const docLinkHtml = 'Like what you see? Visit the ' +\n",
              "            '<a target=\"_blank\" href=https://colab.research.google.com/notebooks/data_table.ipynb>data table notebook</a>'\n",
              "            + ' to learn more about interactive tables.';\n",
              "          element.innerHTML = '';\n",
              "          dataTable['output_type'] = 'display_data';\n",
              "          await google.colab.output.renderOutput(dataTable, element);\n",
              "          const docLink = document.createElement('div');\n",
              "          docLink.innerHTML = docLinkHtml;\n",
              "          element.appendChild(docLink);\n",
              "        }\n",
              "      </script>\n",
              "    </div>\n",
              "  </div>\n"
            ]
          },
          "metadata": {},
          "execution_count": 60
        }
      ]
    },
    {
      "cell_type": "code",
      "source": [
        "df_train, df_test = train_test_split(df, test_size=0.25, random_state=42)"
      ],
      "metadata": {
        "id": "PPbqYL_G2Efw"
      },
      "execution_count": 61,
      "outputs": []
    },
    {
      "cell_type": "code",
      "source": [
        "df_train.size, df_test.size"
      ],
      "metadata": {
        "colab": {
          "base_uri": "https://localhost:8080/"
        },
        "id": "dmOF3Rzo2oVf",
        "outputId": "e92ff711-f4dd-4ebb-de9f-8c20ff4316e8"
      },
      "execution_count": 62,
      "outputs": [
        {
          "output_type": "execute_result",
          "data": {
            "text/plain": [
              "(135000, 45000)"
            ]
          },
          "metadata": {},
          "execution_count": 62
        }
      ]
    },
    {
      "cell_type": "markdown",
      "source": [
        "### 2 - Rode uma regularização ridge com alpha = [0, 0.001, 0.005, 0.01, 0.05, 0.1] e avalie o  R2  na base de testes. Qual o melhor modelo?"
      ],
      "metadata": {
        "id": "uM6NpPcr5WEu"
      }
    },
    {
      "cell_type": "code",
      "source": [
        "import statsmodels.api as sm"
      ],
      "metadata": {
        "id": "4TTQj52AT8NE"
      },
      "execution_count": 43,
      "outputs": []
    },
    {
      "cell_type": "code",
      "source": [
        "modelo = '''np.log(renda) ~ posse_de_veiculo\n",
        "              +posse_de_imovel\n",
        "              +qtd_filhos\n",
        "              +tipo_renda\n",
        "              +educacao\n",
        "              +estado_civil\n",
        "              +tipo_residencia\n",
        "              +idade\n",
        "              +tempo_emprego\n",
        "              +qt_pessoas_residencia'''\n",
        "\n",
        "y_train, X_train = patsy.dmatrices(formula_like=modelo, data=df_train)\n",
        "y_test, X_test = patsy.dmatrices(formula_like=modelo, data=df_test)"
      ],
      "metadata": {
        "id": "u7k-a5swwyY_"
      },
      "execution_count": 44,
      "outputs": []
    },
    {
      "cell_type": "code",
      "source": [
        "alpha = [0, 0.001, 0.005, 0.01, 0.05, 0.1]\n",
        "r2_pred = []\n",
        "for i in alpha:\n",
        "\n",
        "  md = sm.OLS(y_train,  X_train)\n",
        "  reg = md.fit_regularized(method='elastic_net',\n",
        "                          refit=True,\n",
        "                          L1_wt = 0,\n",
        "                          alpha = i)\n",
        "\n",
        "  y_pred = reg.predict(X_test)\n",
        "  r2 = r2_score(y_test, y_pred)\n",
        "\n",
        "  r2_pred.append(r2)\n",
        "  print('Alpha: ',i, '\\nR-squared: ', r2, '\\n')\n"
      ],
      "metadata": {
        "colab": {
          "base_uri": "https://localhost:8080/"
        },
        "id": "7JMaKjZ4mk7D",
        "outputId": "1fda8221-87e1-491b-a434-3ea6f3803cf6"
      },
      "execution_count": 45,
      "outputs": [
        {
          "output_type": "stream",
          "name": "stdout",
          "text": [
            "Alpha:  0 \n",
            "R-squared:  0.20044711780995272 \n",
            "\n",
            "Alpha:  0.001 \n",
            "R-squared:  0.19347061803606247 \n",
            "\n",
            "Alpha:  0.005 \n",
            "R-squared:  0.17094263187952474 \n",
            "\n",
            "Alpha:  0.01 \n",
            "R-squared:  0.13990885084892368 \n",
            "\n",
            "Alpha:  0.05 \n",
            "R-squared:  -0.1414303952490843 \n",
            "\n",
            "Alpha:  0.1 \n",
            "R-squared:  -0.4249032732684561 \n",
            "\n"
          ]
        }
      ]
    },
    {
      "cell_type": "markdown",
      "source": [
        "###### O melhor modelo foi o com Alpha: 0  com o  R-squared = 0.20044711780995272\n",
        "\n",
        "\n"
      ],
      "metadata": {
        "id": "IAqSGeQT170l"
      }
    },
    {
      "cell_type": "markdown",
      "source": [
        "### 3 - Faça o mesmo que no passo 2, com uma regressão LASSO. Qual método chega a um melhor resultado?"
      ],
      "metadata": {
        "id": "dAbiItIV3OfE"
      }
    },
    {
      "cell_type": "code",
      "source": [
        "alpha = [0, 0.001, 0.005, 0.01, 0.05, 0.1]\n",
        "r2_pred = []\n",
        "for i in alpha:\n",
        "\n",
        "  md = sm.OLS(y_train,  X_train)\n",
        "  reg = md.fit_regularized(method='elastic_net',\n",
        "                          refit=True,\n",
        "                          L1_wt = 1,\n",
        "                          alpha = i)\n",
        "\n",
        "  y_pred = reg.predict(X_test)\n",
        "  r2 = r2_score(y_test, y_pred)\n",
        "\n",
        "  r2_pred.append(r2)\n",
        "  print('Alpha: ',i, '\\nR-squared: ', r2, '\\n')"
      ],
      "metadata": {
        "colab": {
          "base_uri": "https://localhost:8080/"
        },
        "id": "uIlM-TdH3Wdc",
        "outputId": "11daeaaa-cac5-4e68-94dc-cca41d5ecf9e"
      },
      "execution_count": 46,
      "outputs": [
        {
          "output_type": "stream",
          "name": "stdout",
          "text": [
            "Alpha:  0 \n",
            "R-squared:  0.20044711780995306 \n",
            "\n",
            "Alpha:  0.001 \n",
            "R-squared:  0.19959077449382323 \n",
            "\n",
            "Alpha:  0.005 \n",
            "R-squared:  0.19613115356695865 \n",
            "\n",
            "Alpha:  0.01 \n",
            "R-squared:  0.19497948731786363 \n",
            "\n",
            "Alpha:  0.05 \n",
            "R-squared:  0.18135066814860745 \n",
            "\n",
            "Alpha:  0.1 \n",
            "R-squared:  0.18034692442687172 \n",
            "\n"
          ]
        }
      ]
    },
    {
      "cell_type": "markdown",
      "source": [
        "###### Com o alpha 0 os metodos são semelhantes com uma minima diferença, com o alpha mais alto há uma diferença maior e o melhor metodo é o *LASSO*.\n"
      ],
      "metadata": {
        "id": "myf3Nz_c3rC-"
      }
    },
    {
      "cell_type": "markdown",
      "source": [
        "### 4 - Rode um modelo stepwise. Avalie o  R2  na base de testes. Qual o melhor resultado?"
      ],
      "metadata": {
        "id": "0d-yH-IN53Sk"
      }
    },
    {
      "cell_type": "code",
      "source": [
        "df_dummies = pd.get_dummies(data=df.dropna(), drop_first=True).astype(int)\n",
        "\n",
        "X = df_dummies.drop(columns='renda')\n",
        "y = df_dummies['renda']\n",
        "\n",
        "X_train, X_test, y_train, y_test = train_test_split(X, y, test_size=0.25, random_state=1993)"
      ],
      "metadata": {
        "id": "D_X8xggfvNR0"
      },
      "execution_count": 47,
      "outputs": []
    },
    {
      "cell_type": "code",
      "source": [
        "def stepwise(X, y,\n",
        "             initial_list=[],\n",
        "             threshold_in=0.05,\n",
        "             threshold_out=0.05,\n",
        "             verbose=True):\n",
        "   included = list(initial_list)\n",
        "   while True:\n",
        "        changed=False\n",
        "\n",
        "        # forward step\n",
        "        excluded = list(set(X.columns)-set(included))\n",
        "        new_pval = pd.Series(index=excluded, dtype=np.dtype('float64'))\n",
        "        for new_column in excluded:\n",
        "            model = sm.OLS(y, sm.add_constant(pd.DataFrame(X[included+[new_column]]))).fit()\n",
        "            new_pval[new_column] = model.pvalues[new_column]\n",
        "        best_pval = new_pval.min()\n",
        "        if best_pval < threshold_in:\n",
        "            best_feature = new_pval.index[new_pval.argmin()]\n",
        "            included.append(best_feature)\n",
        "            changed=True\n",
        "\n",
        "        model = sm.OLS(y, sm.add_constant(pd.DataFrame(X[included]))).fit()\n",
        "        # use all coefs except intercept\n",
        "        pvalues = model.pvalues.iloc[1:]\n",
        "        worst_pval = pvalues.max() # null if pvalues is empty\n",
        "        if worst_pval > threshold_out:\n",
        "            changed=True\n",
        "            worst_feature = pvalues.argmax()\n",
        "            included.remove(worst_feature)\n",
        "\n",
        "        if not changed:\n",
        "            break\n",
        "        return included\n",
        "\n",
        "variaveis = stepwise(X_test, y_test)"
      ],
      "metadata": {
        "id": "c9-yrPbF58Wy"
      },
      "execution_count": 48,
      "outputs": []
    },
    {
      "cell_type": "code",
      "source": [
        "alpha = [0, 0.001, 0.005, 0.01, 0.05, 0.1]\n",
        "r2_pred = []\n",
        "for i in alpha:\n",
        "\n",
        "  md = sm.OLS(y_train,  X_train)\n",
        "  reg = md.fit_regularized(method='elastic_net',\n",
        "                          refit=True,\n",
        "                          L1_wt = 1,\n",
        "                          alpha = i)\n",
        "\n",
        "  y_pred = reg.predict(X_test)\n",
        "  r2 = r2_score(y_test, y_pred)\n",
        "\n",
        "  r2_pred.append(r2)\n",
        "  print('Alpha: ',i, '\\nR-squared: ', r2, '\\n')"
      ],
      "metadata": {
        "colab": {
          "base_uri": "https://localhost:8080/"
        },
        "id": "fLz3fMEHwQKc",
        "outputId": "65b334bc-1cf3-4d7d-8bf3-77c8c82792cd"
      },
      "execution_count": 49,
      "outputs": [
        {
          "output_type": "stream",
          "name": "stdout",
          "text": [
            "Alpha:  0 \n",
            "R-squared:  0.2520214436314304 \n",
            "\n",
            "Alpha:  0.001 \n",
            "R-squared:  0.2520214436314304 \n",
            "\n",
            "Alpha:  0.005 \n",
            "R-squared:  0.2520214436314304 \n",
            "\n",
            "Alpha:  0.01 \n",
            "R-squared:  0.2520214436314304 \n",
            "\n",
            "Alpha:  0.05 \n",
            "R-squared:  0.2520214436314304 \n",
            "\n",
            "Alpha:  0.1 \n",
            "R-squared:  0.2521384744120252 \n",
            "\n"
          ]
        }
      ]
    },
    {
      "cell_type": "code",
      "source": [
        "alpha = [0, 0.001, 0.005, 0.01, 0.05, 0.1]\n",
        "r2_pred = []\n",
        "for i in alpha:\n",
        "\n",
        "  md = sm.OLS(y_train,  X_train)\n",
        "  reg = md.fit_regularized(method='elastic_net',\n",
        "                          refit=True,\n",
        "                          L1_wt = 0,\n",
        "                          alpha = i)\n",
        "\n",
        "  y_pred = reg.predict(X_test)\n",
        "  r2 = r2_score(y_test, y_pred)\n",
        "\n",
        "  r2_pred.append(r2)\n",
        "  print('Alpha: ',i, '\\nR-squared: ', r2, '\\n')"
      ],
      "metadata": {
        "colab": {
          "base_uri": "https://localhost:8080/"
        },
        "id": "bKgmneJXwRdE",
        "outputId": "c9d2baf3-496c-435a-fd21-dd3e5cc16b81"
      },
      "execution_count": 50,
      "outputs": [
        {
          "output_type": "stream",
          "name": "stdout",
          "text": [
            "Alpha:  0 \n",
            "R-squared:  0.25202144363143053 \n",
            "\n",
            "Alpha:  0.001 \n",
            "R-squared:  0.2520447282907633 \n",
            "\n",
            "Alpha:  0.005 \n",
            "R-squared:  0.25174957216906624 \n",
            "\n",
            "Alpha:  0.01 \n",
            "R-squared:  0.25118652527735896 \n",
            "\n",
            "Alpha:  0.05 \n",
            "R-squared:  0.24519901871278993 \n",
            "\n",
            "Alpha:  0.1 \n",
            "R-squared:  0.23730885572202598 \n",
            "\n"
          ]
        }
      ]
    },
    {
      "cell_type": "markdown",
      "source": [
        "###### O modelo lasso se saiu melhor tendo o msmo R² em todos os valores de Alphas"
      ],
      "metadata": {
        "id": "r6FrQspJwzCk"
      }
    },
    {
      "cell_type": "markdown",
      "source": [
        "### 5 - Compare os parâmetros e avalie eventuais diferenças. Qual modelo você acha o melhor de todos?"
      ],
      "metadata": {
        "id": "6CtwCROHxEik"
      }
    },
    {
      "cell_type": "markdown",
      "source": [
        "###### O melhor modelo foi usando o metodo *lasso* pois obteve melhor coeficiente no R² em todos os valores de Alpha."
      ],
      "metadata": {
        "id": "IyPOEC39x7c0"
      }
    },
    {
      "cell_type": "markdown",
      "source": [
        "### 6 - Partindo dos modelos que você ajustou, tente melhorar o  R2  na base de testes. Use a criatividade, veja se consegue inserir alguma transformação ou combinação de variáveis."
      ],
      "metadata": {
        "id": "Fl-C4w7byLfM"
      }
    },
    {
      "cell_type": "code",
      "source": [
        "modelo = '''np.log(renda) ~ posse_de_veiculo\n",
        "              +sexo\n",
        "              +posse_de_imovel\n",
        "              +qtd_filhos\n",
        "              +tipo_renda\n",
        "              +educacao == 'Superior completo'\n",
        "              +estado_civil\n",
        "              +idade\n",
        "              +tempo_emprego\n",
        "              +qt_pessoas_residencia'''\n",
        "\n",
        "y_train, X_train = patsy.dmatrices(formula_like=modelo, data=df_train)\n",
        "y_test, X_test = patsy.dmatrices(formula_like=modelo, data=df_test)"
      ],
      "metadata": {
        "id": "IJ05O-LFySdW"
      },
      "execution_count": 126,
      "outputs": []
    },
    {
      "cell_type": "code",
      "source": [
        "alpha = [0, 0.001, 0.005, 0.01, 0.05, 0.1]\n",
        "r2_pred = []\n",
        "for i in alpha:\n",
        "\n",
        "  md = sm.OLS(y_train,  X_train)\n",
        "  reg = md.fit_regularized(method='elastic_net',\n",
        "                          refit=True,\n",
        "                          L1_wt = 0,\n",
        "                          alpha = i)\n",
        "\n",
        "  y_pred = reg.predict(X_test)\n",
        "  r2 = r2_score(y_test, y_pred)\n",
        "\n",
        "  r2_pred.append(r2)\n",
        "  print('Alpha: ',i, '\\nR-squared: ', r2, '\\n')"
      ],
      "metadata": {
        "colab": {
          "base_uri": "https://localhost:8080/"
        },
        "id": "w_Otw8Ery3Nj",
        "outputId": "2f9d2bf8-327c-46ef-e68b-a09328f6056c"
      },
      "execution_count": 127,
      "outputs": [
        {
          "output_type": "stream",
          "name": "stdout",
          "text": [
            "Alpha:  0 \n",
            "R-squared:  0.3526806719657687 \n",
            "\n",
            "Alpha:  0.001 \n",
            "R-squared:  0.35047833098175984 \n",
            "\n",
            "Alpha:  0.005 \n",
            "R-squared:  0.33547910688778393 \n",
            "\n",
            "Alpha:  0.01 \n",
            "R-squared:  0.3022034767368549 \n",
            "\n",
            "Alpha:  0.05 \n",
            "R-squared:  -0.03269239703834925 \n",
            "\n",
            "Alpha:  0.1 \n",
            "R-squared:  -0.334425835887751 \n",
            "\n"
          ]
        }
      ]
    },
    {
      "cell_type": "markdown",
      "source": [
        "### 7 - Ajuste uma árvore de regressão e veja se consegue um  R2  melhor com ela."
      ],
      "metadata": {
        "id": "4gI7RA4A3jaz"
      }
    },
    {
      "cell_type": "code",
      "source": [
        "from sklearn.tree import DecisionTreeRegressor\n",
        "from sklearn.metrics import r2_score"
      ],
      "metadata": {
        "id": "hcCQbZk6-kGD"
      },
      "execution_count": null,
      "outputs": []
    },
    {
      "cell_type": "code",
      "source": [
        "X_train, X_test, y_train, y_test = train_test_split(X, y, test_size=0.25, random_state=1993)\n",
        "\n",
        "regr = DecisionTreeRegressor(max_depth=4)\n",
        "regr.fit(X_train, y_train);"
      ],
      "metadata": {
        "id": "eidg2XSI3qPT"
      },
      "execution_count": 177,
      "outputs": []
    },
    {
      "cell_type": "code",
      "source": [
        "regr.score(X=X_test, y=y_test)"
      ],
      "metadata": {
        "colab": {
          "base_uri": "https://localhost:8080/"
        },
        "id": "6b0p_VGO44Sr",
        "outputId": "d4dc3715-37e2-4d08-ecff-c4534c374366"
      },
      "execution_count": 178,
      "outputs": [
        {
          "output_type": "execute_result",
          "data": {
            "text/plain": [
              "0.44713459926804155"
            ]
          },
          "metadata": {},
          "execution_count": 178
        }
      ]
    }
  ],
  "metadata": {
    "kernelspec": {
      "display_name": "Python 3",
      "language": "python",
      "name": "python3"
    },
    "language_info": {
      "codemirror_mode": {
        "name": "ipython",
        "version": 3
      },
      "file_extension": ".py",
      "mimetype": "text/x-python",
      "name": "python",
      "nbconvert_exporter": "python",
      "pygments_lexer": "ipython3",
      "version": "3.8.5"
    },
    "colab": {
      "provenance": []
    }
  },
  "nbformat": 4,
  "nbformat_minor": 0
}